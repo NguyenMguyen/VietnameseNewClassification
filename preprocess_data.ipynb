{
 "cells": [
  {
   "cell_type": "markdown",
   "id": "f21ddde3",
   "metadata": {},
   "source": [
    "# Tiền xử lý dữ liệu văn bản"
   ]
  },
  {
   "cell_type": "markdown",
   "id": "0d533551",
   "metadata": {},
   "source": [
    "#### Import thư viện"
   ]
  },
  {
   "cell_type": "code",
   "execution_count": 3,
   "id": "d31d48ec",
   "metadata": {},
   "outputs": [],
   "source": [
    "import pandas as pd\n",
    "import matplotlib.pyplot as plt\n",
    "import numpy as np\n",
    "import regex as re\n",
    "import random\n",
    "import math\n",
    "import os\n",
    "from tqdm.notebook import tqdm\n",
    "import pickle"
   ]
  },
  {
   "cell_type": "markdown",
   "id": "6511ee1b",
   "metadata": {},
   "source": [
    "#### Load dữ liệu"
   ]
  },
  {
   "cell_type": "markdown",
   "id": "434e1bca",
   "metadata": {},
   "source": [
    "Bộ dữ liệu được tổng hợp từ các tin tức trong nước và ngoài nước với 27 chủ đề khác nhau.\n",
    "Link dataset: https://github.com/duyvuleo/VNTC"
   ]
  },
  {
   "cell_type": "markdown",
   "id": "380665db",
   "metadata": {},
   "source": [
    "Thông tin bộ dữ liệu\n",
    "![alt text](image/data_info.png)"
   ]
  },
  {
   "cell_type": "code",
   "execution_count": 2,
   "id": "5ecf642b",
   "metadata": {},
   "outputs": [],
   "source": [
    "# Đường dẫn tới thư mục chứa dữ liệu\n",
    "test_dir = 'Data/test'\n",
    "train_dir = 'Data/train'"
   ]
  },
  {
   "cell_type": "markdown",
   "id": "ac726b74",
   "metadata": {},
   "source": [
    "#### Danh sách nhãn"
   ]
  },
  {
   "cell_type": "code",
   "execution_count": 3,
   "id": "dea6db48",
   "metadata": {},
   "outputs": [
    {
     "name": "stdout",
     "output_type": "stream",
     "text": [
      "Số nhãn: 27\n"
     ]
    },
    {
     "data": {
      "text/plain": [
       "['Am nhac',\n",
       " 'Am thuc',\n",
       " 'Bat dong san',\n",
       " 'Bong da',\n",
       " 'Chung khoan',\n",
       " 'Cum ga',\n",
       " 'Cuoc song do day',\n",
       " 'Du hoc',\n",
       " 'Du lich',\n",
       " 'Duong vao WTO',\n",
       " 'Gia dinh',\n",
       " 'Giai tri tin hoc',\n",
       " 'Giao duc',\n",
       " 'Gioi tinh',\n",
       " 'Hackers va Virus',\n",
       " 'Hinh su',\n",
       " 'Khong gian song',\n",
       " 'Kinh doanh quoc te',\n",
       " 'Lam dep',\n",
       " 'Loi song',\n",
       " 'Mua sam',\n",
       " 'My thuat',\n",
       " 'San khau dien anh',\n",
       " 'San pham tin hoc moi',\n",
       " 'Tennis',\n",
       " 'The gioi tre',\n",
       " 'Thoi trang']"
      ]
     },
     "execution_count": 3,
     "metadata": {},
     "output_type": "execute_result"
    }
   ],
   "source": [
    "# Các thư mục có tên là nhãn của các bài báo\n",
    "labels = os.listdir(train_dir)\n",
    "print(\"Số nhãn:\", len(labels))\n",
    "labels"
   ]
  },
  {
   "cell_type": "markdown",
   "id": "d1793314",
   "metadata": {},
   "source": [
    "#### Load dữ liệu từ tập train"
   ]
  },
  {
   "cell_type": "code",
   "execution_count": 4,
   "id": "2d2defc1",
   "metadata": {},
   "outputs": [
    {
     "data": {
      "application/vnd.jupyter.widget-view+json": {
       "model_id": "9871327fb79241a981f37fb7a21037a2",
       "version_major": 2,
       "version_minor": 0
      },
      "text/plain": [
       "  0%|          | 0/27 [00:00<?, ?it/s]"
      ]
     },
     "metadata": {},
     "output_type": "display_data"
    },
    {
     "name": "stdout",
     "output_type": "stream",
     "text": [
      "Đã xong\n"
     ]
    }
   ],
   "source": [
    "# Liệt kê tất cả đường dẫn tới các tập dữ liệu train\n",
    "train_paths = []\n",
    "\n",
    "for label in tqdm(labels):\n",
    "    dir_path = train_dir + \"/\" + label\n",
    "    news_paths = os.listdir(dir_path)\n",
    "    for path in news_paths:\n",
    "        train_paths.append(dir_path + \"/\" + path)\n",
    "\n",
    "print(\"Đã xong\")"
   ]
  },
  {
   "cell_type": "code",
   "execution_count": 6,
   "id": "563e813e",
   "metadata": {
    "scrolled": true
   },
   "outputs": [
    {
     "name": "stdout",
     "output_type": "stream",
     "text": [
      "Giống như Keiko Matsui, Blackmore's Night được hầu hết báo chí ở Việt Nam nhắc đến cách đây vài năm với scandal đạo nhạc Renaissance faire - Tuổi 16. Nhưng đối với người yêu nhạc chịu khó chút xíu, không cần đến scandal đó mới biết cái tên Blackmore's Night. Danh tiếng của Richie Blackmore từ khi chơi trong Deep Purple lẫn Rainbow đủ để người ta phải dừng bước trước kệ có đặt đĩa của Blackmore's Night.\n",
      "Cái tên Blackmore's Night khéo léo kết hợp 2 thành viên chủ chốt của nhóm: tay guitar cự phách Richie Blackmore và cô người yêu Candice Night. Âm nhạc của nhóm từng được chính Richie mô tả là \"Mike Oldfield gặp gỡ với Enya\". Đến nay, Blackmore's Night đã có 5 album studio chính thức và người nghe cũng xác định được nhóm khác xa với Deep Purple hay Rainbow. Deep Purple góp phần định hình nên nhạc rock của thập niên 70, nền tảng vững chắc cho metal sau này thì Blackmore's Night lại quay lại thời Phục hưng, với những nhạc cụ thời Trung cổ, với đoàn hát rong... Ngày 4/4/2006, Village lanterne, album thứ 6 của Blackmore's Night được tung ra. Đây là album có âm thanh hiện đại nhất trong tất cả các đĩa nhạc của Blackmore's Night đã từng phát hành.\n",
      "Vẫn giọng hát trong trẻo của Candice nhưng tiếng guitar trong Just call my name chắc chắn không phải thời Phục hưng mà giống như bài Rockin' chair của nhóm Magnum năm 90. Tương tự là St. Teresa mở đầu chậm rãi, êm dịu như một bản hòa tấu đầy suy tư nhưng rồi nhanh chóng bừng sáng. Giống như một thanh gươm chỉ quý với người biết dùng, guitar điện đã được đặt trở lại vào tay vị anh hùng thiện chiến Richie và anh lại tiếp tục dọc ngang, ngút ngàn với thanh âm từng dẫn dắt cả đạo quân (hiểu theo nghĩa bóng lẫn nghĩa đen) người yêu rock. Street of dreams, bài hát trích từ album Bent out of shape năm 1983 của Rainbow đã được chơi lại với guitar điện nhưng Child in time lẫy lừng của Deep Purple lần này được lồng ghép với bài Mond tanz. Nếu đã nghe bản gốc của Street of dreams và nhất là Child in time, có thể đoan chắc rằng ít ai chơi lại hay bằng Rainbow và Deep Purple. Giọng hát của Ian Gillan trong những quãng cao, những đoạn ngân nga lanh lảnh của bài Child in time khiến bất cứ ai có ý định hát lại bài này đều phải vượt qua bức tường thành thật cao. Ngày 18/4/2006 vừa qua, Ian cũng tung ra album Gillan's inn rất đáng nghe, trong đó hát lại Smoke on the water, When a blind man cries với giọng hát không suy suyển mấy với thời gian. Trở lại với Blackmore's Night, khi thể hiện lại các ca khúc này với giọng nữ, hẳn Richie có ý định thử nghiệm hơn là tìm cách chinh phục. Bằng chứng là Child in time đã được gói ghém gọn ghẽ trong điệu vũ ánh trăng (bài Mond tanz mở đầu và kết thúc track 9 với Child in time lọt thỏm ở giữa). Dĩ nhiên tiếng đàn thùng trong vắt vẫn là âm thanh chủ đạo trong Village dance, The messenger và khéo léo nâng đỡ giọng hát chính trong nhiều ca khúc khác. Faerie queen nhẹ nhõm với những tiếng miết dây đàn guitar, giọng hát của Candice như quyện vào tiếng đàn. Đột nhiên khi bài hát đi được 2/3 độ dài, mọi thứ rộn rã và nhộn nhịp hẳn. Đoàn người quây quần quanh đống lửa, nắm tay kết thành vòng tròn, tưng bừng nhảy múa, sau 8 ô nhịp lại giơ cao tay, đồng loạt hô vang... World of stone có kiểu ngân nga của dàn đồng ca các thầy tu như trong các đĩa Gregorian. Street of London bất hủ của Ralph McTell được Candice hát lại không thể ấm áp bằng nhưng vẫn là một bản nhạc đáng nghe. Giọng hát của Candice xuất sắc và phù hợp nhất ở Windmills và Once in a garden. Ở ca khúc sau, một lần nữa lại được nghe tiếng chim ríu rít và nước róc rách trong âm nhạc, như đã giới thiệu cách đây 2 tuần với bài Gentle forest của Kitaro. Đĩa nhạc này có thể dễ dàng xếp vào kệ đĩa của khu vực progressive rock khi nhớ lại rằng progressive rock đầu thập niên 70 pha trộn rất nhiều chất nhạc folk. Chỉ riêng ca khúc I guess it doesn't matter cũng đủ chứng minh điều này.\n",
      "Ấn bản phát hành tại Nhật của album Village lanterne có thêm một phần trình bày khác của Street of dreams. Lần này, ngoài giọng của Candice còn có Joe Lynn Turner, ca sĩ của cả Deep Purple và Rainbow trước đây.\n",
      "\n",
      "\n",
      "\n"
     ]
    }
   ],
   "source": [
    "# Mở 1 file\n",
    "with open(train_paths[1], 'r', encoding='utf-16') as f:\n",
    "    contents = f.read()\n",
    "    print(contents)"
   ]
  },
  {
   "cell_type": "code",
   "execution_count": null,
   "id": "ec48002a",
   "metadata": {},
   "outputs": [],
   "source": [
    "# Đọc tất cả file và label tương ứng\n",
    "train_x = []\n",
    "train_y = []\n",
    "\n",
    "for path in tqdm(train_paths):\n",
    "    with open(path, 'r', encoding='utf-16') as f:\n",
    "        content = f.read()\n",
    "        label = path.split(\"/\")[-2]\n",
    "        train_x.append(content)\n",
    "        train_y.append(label)"
   ]
  },
  {
   "cell_type": "code",
   "execution_count": 8,
   "id": "984d401e",
   "metadata": {},
   "outputs": [
    {
     "name": "stdout",
     "output_type": "stream",
     "text": [
      "Train size: 14375\n"
     ]
    }
   ],
   "source": [
    "print('Train size:', len(train_x))"
   ]
  },
  {
   "cell_type": "code",
   "execution_count": 9,
   "id": "f85b64e7",
   "metadata": {
    "scrolled": true
   },
   "outputs": [
    {
     "data": {
      "text/plain": [
       "'Giống như Keiko Matsui, Blackmore\\'s Night được hầu hết báo chí ở Việt Nam nhắc đến cách đây vài năm với scandal đạo nhạc Renaissance faire - Tuổi 16. Nhưng đối với người yêu nhạc chịu khó chút xíu, không cần đến scandal đó mới biết cái tên Blackmore\\'s Night. Danh tiếng của Richie Blackmore từ khi chơi trong Deep Purple lẫn Rainbow đủ để người ta phải dừng bước trước kệ có đặt đĩa của Blackmore\\'s Night.\\nCái tên Blackmore\\'s Night khéo léo kết hợp 2 thành viên chủ chốt của nhóm: tay guitar cự phách Richie Blackmore và cô người yêu Candice Night. Âm nhạc của nhóm từng được chính Richie mô tả là \"Mike Oldfield gặp gỡ với Enya\". Đến nay, Blackmore\\'s Night đã có 5 album studio chính thức và người nghe cũng xác định được nhóm khác xa với Deep Purple hay Rainbow. Deep Purple góp phần định hình nên nhạc rock của thập niên 70, nền tảng vững chắc cho metal sau này thì Blackmore\\'s Night lại quay lại thời Phục hưng, với những nhạc cụ thời Trung cổ, với đoàn hát rong... Ngày 4/4/2006, Village lanterne, album thứ 6 của Blackmore\\'s Night được tung ra. Đây là album có âm thanh hiện đại nhất trong tất cả các đĩa nhạc của Blackmore\\'s Night đã từng phát hành.\\nVẫn giọng hát trong trẻo của Candice nhưng tiếng guitar trong Just call my name chắc chắn không phải thời Phục hưng mà giống như bài Rockin\\' chair của nhóm Magnum năm 90. Tương tự là St. Teresa mở đầu chậm rãi, êm dịu như một bản hòa tấu đầy suy tư nhưng rồi nhanh chóng bừng sáng. Giống như một thanh gươm chỉ quý với người biết dùng, guitar điện đã được đặt trở lại vào tay vị anh hùng thiện chiến Richie và anh lại tiếp tục dọc ngang, ngút ngàn với thanh âm từng dẫn dắt cả đạo quân (hiểu theo nghĩa bóng lẫn nghĩa đen) người yêu rock. Street of dreams, bài hát trích từ album Bent out of shape năm 1983 của Rainbow đã được chơi lại với guitar điện nhưng Child in time lẫy lừng của Deep Purple lần này được lồng ghép với bài Mond tanz. Nếu đã nghe bản gốc của Street of dreams và nhất là Child in time, có thể đoan chắc rằng ít ai chơi lại hay bằng Rainbow và Deep Purple. Giọng hát của Ian Gillan trong những quãng cao, những đoạn ngân nga lanh lảnh của bài Child in time khiến bất cứ ai có ý định hát lại bài này đều phải vượt qua bức tường thành thật cao. Ngày 18/4/2006 vừa qua, Ian cũng tung ra album Gillan\\'s inn rất đáng nghe, trong đó hát lại Smoke on the water, When a blind man cries với giọng hát không suy suyển mấy với thời gian. Trở lại với Blackmore\\'s Night, khi thể hiện lại các ca khúc này với giọng nữ, hẳn Richie có ý định thử nghiệm hơn là tìm cách chinh phục. Bằng chứng là Child in time đã được gói ghém gọn ghẽ trong điệu vũ ánh trăng (bài Mond tanz mở đầu và kết thúc track 9 với Child in time lọt thỏm ở giữa). Dĩ nhiên tiếng đàn thùng trong vắt vẫn là âm thanh chủ đạo trong Village dance, The messenger và khéo léo nâng đỡ giọng hát chính trong nhiều ca khúc khác. Faerie queen nhẹ nhõm với những tiếng miết dây đàn guitar, giọng hát của Candice như quyện vào tiếng đàn. Đột nhiên khi bài hát đi được 2/3 độ dài, mọi thứ rộn rã và nhộn nhịp hẳn. Đoàn người quây quần quanh đống lửa, nắm tay kết thành vòng tròn, tưng bừng nhảy múa, sau 8 ô nhịp lại giơ cao tay, đồng loạt hô vang... World of stone có kiểu ngân nga của dàn đồng ca các thầy tu như trong các đĩa Gregorian. Street of London bất hủ của Ralph McTell được Candice hát lại không thể ấm áp bằng nhưng vẫn là một bản nhạc đáng nghe. Giọng hát của Candice xuất sắc và phù hợp nhất ở Windmills và Once in a garden. Ở ca khúc sau, một lần nữa lại được nghe tiếng chim ríu rít và nước róc rách trong âm nhạc, như đã giới thiệu cách đây 2 tuần với bài Gentle forest của Kitaro. Đĩa nhạc này có thể dễ dàng xếp vào kệ đĩa của khu vực progressive rock khi nhớ lại rằng progressive rock đầu thập niên 70 pha trộn rất nhiều chất nhạc folk. Chỉ riêng ca khúc I guess it doesn\\'t matter cũng đủ chứng minh điều này.\\nẤn bản phát hành tại Nhật của album Village lanterne có thêm một phần trình bày khác của Street of dreams. Lần này, ngoài giọng của Candice còn có Joe Lynn Turner, ca sĩ của cả Deep Purple và Rainbow trước đây.\\n\\n\\n'"
      ]
     },
     "execution_count": 9,
     "metadata": {},
     "output_type": "execute_result"
    }
   ],
   "source": [
    "train_x[1]"
   ]
  },
  {
   "cell_type": "markdown",
   "id": "e0b16eb4",
   "metadata": {},
   "source": [
    "#### Load dữ liệu test từ file"
   ]
  },
  {
   "cell_type": "code",
   "execution_count": 10,
   "id": "fc816214",
   "metadata": {},
   "outputs": [
    {
     "data": {
      "application/vnd.jupyter.widget-view+json": {
       "model_id": "c03edd96cab8472b8efb091d14453cb6",
       "version_major": 2,
       "version_minor": 0
      },
      "text/plain": [
       "  0%|          | 0/27 [00:00<?, ?it/s]"
      ]
     },
     "metadata": {},
     "output_type": "display_data"
    },
    {
     "name": "stdout",
     "output_type": "stream",
     "text": [
      "Đã xong\n"
     ]
    }
   ],
   "source": [
    "# Liệt kê tất cả đường dẫn tới các tập dữ liệu test\n",
    "test_paths = []\n",
    "\n",
    "for label in tqdm(labels):\n",
    "    dir_path = test_dir + \"/\" + label\n",
    "    news_paths = os.listdir(dir_path)\n",
    "    for path in news_paths:\n",
    "        test_paths.append(dir_path + \"/\" + path)\n",
    "\n",
    "print(\"Đã xong\")"
   ]
  },
  {
   "cell_type": "code",
   "execution_count": 11,
   "id": "436fa53c",
   "metadata": {},
   "outputs": [
    {
     "data": {
      "application/vnd.jupyter.widget-view+json": {
       "model_id": "f56b2b7672934e8b8d5e64464a14858d",
       "version_major": 2,
       "version_minor": 0
      },
      "text/plain": [
       "  0%|          | 0/12076 [00:00<?, ?it/s]"
      ]
     },
     "metadata": {},
     "output_type": "display_data"
    }
   ],
   "source": [
    "# Đọc tất cả file và label tương ứng\n",
    "test_x = []\n",
    "test_y = []\n",
    "\n",
    "for path in tqdm(test_paths):\n",
    "    with open(path, 'r', encoding='utf-16') as f:\n",
    "        content = f.read()\n",
    "        label = path.split(\"/\")[-2]\n",
    "        test_x.append(content)\n",
    "        test_y.append(label)"
   ]
  },
  {
   "cell_type": "code",
   "execution_count": 12,
   "id": "07cca830",
   "metadata": {},
   "outputs": [
    {
     "name": "stdout",
     "output_type": "stream",
     "text": [
      "Test size: 12076\n"
     ]
    }
   ],
   "source": [
    "print('Test size:', len(test_x))"
   ]
  },
  {
   "cell_type": "code",
   "execution_count": 13,
   "id": "622e169f",
   "metadata": {},
   "outputs": [
    {
     "data": {
      "text/plain": [
       "' Cách “diện” của Phương Anh Cuộc thi Sao mai điểm hẹn như một bệ phóng đưa Phương Anh lên bầu trời sao. Và ngôi sao nhỏ Phương Anh đã bắt đầu lấp lánh ánh sáng riêng của mình.\\nChọn trang phục theo bài hát \\nPhương Anh giữa đời thường \\nPhương Anh vẫn đang tìm một nhà thiết kế có phong cách phù hợp để “chiếm làm của riêng”. Nhà thiết kế đó sẽ tư vấn trang phục lên sân khấu cho cô và sẽ tạo những mẫu trang phục riêng biệt chỉ dành riêng cho Phương Anh. \\nÝ muốn là thế nhưng khi nghe những đàn chị như Mỹ Tâm hay Hồ Quỳnh Hương từng đặt thiết kế riêng cho những bộ trang phục biểu diễn lên tới hơn chục triệu đồng thì cô vẫn... xanh mắt! “Hiện tại tôi chưa đủ sức đầu tư lớn như thế được”. Phương Anh nói. \\nDù vậy, trước mỗi lần biểu diễn, Phương Anh dành khá nhiều thời gian cho việc chuẩn bị trang phục, bởi: “Khán giả đâu có nhắm mắt mà thưởng thức giọng hát của mình. Khi mình xuất hiện trên sân khấu, họ nhìn thấy mình trước khi nghe hát. Và hình ảnh của mình ít nhiều ảnh hưởng đến tai nghe của khán giả. Nếu cách mặc của ca sĩ phản cảm thì giọng hát cũng không còn đẹp nữa trong cảm nhận của khán giả”. \\nÝ thức được tầm quan trọng của trang phục biểu diễn, trong khi chưa có cố vấn riêng về việc này, Phương Anh chọn cách phối hợp trang phục theo linh cảm của mình. \\nĐứng trước tủ quần áo chật cứng, cô lôi từng món ra, để chúng cạnh nhau, mặc thử, thấy tự tin là... Ok. Nội dung và tình cảm của bài hát là yếu tố chính để Phương Anh lựa chọn trang phục. \\nKhi hát những bài ca cách mạng truyền thống, Phương Anh thấy thoải mái nhất trong việc lựa chọn trang phục, bởi khi đó cần mặc những bộ áo dài. \\nCầu kỳ khi lên sân khấu biểu diễn, nhưng ở ngoài đời, Phương Anh chỉ chọn cách mặc khỏe khoắn và giản dị. Áo pull, quần bò, giày thể thao, mi đen, môi bạc, tóc xù, Phương Anh nhỏ bé bình thản “rúc” vào một góc khuất của quán cà phê tận hưởng những phút giây thư thái hoặc gặm nhấm một nỗi buồn chợt đến lúc chiều muộn. Trông cô lọ lem này chẳng liên quan gì đến một Phương Anh ca sĩ lộng lẫy, đam mê và bốc lửa trên thánh đường âm nhạc. \\nTúi xách và ví là... đồ chơi! \\nĐang đi trên đường mà có chiếc túi nào đó ngồ ngộ trưng trong shop lọt mắt là Phương Anh dừng lại ngay. Cô mê túi và ví đến độ giờ có bắt tự thú về số lượng túi và ví trót mua thì Phương Anh đành bó tay vì chịu không nhớ hết. Mặc bất kỳ bộ quần áo nào, Phương Anh cũng có thể tìm thấy một chiếc túi rất phù hợp. Nhưng mà túi của Phương Anh rất nặng vì trong đó nào là các loại đĩa nhạc MD, CD, chìa khóa, đồ make-up, nước hoa, giấy tờ, ví, kính và ti tỉ những món rất... con gái khác. Chịu khó đeo nặng một tí, nhưng khi cần thì có thể tìm thấy bất cứ thứ gì... trong túi. Đã có lần Phương Anh cặm cụi ngồi loại bỏ một số nguyên nhân làm tăng trọng lượng túi, nhưng chỉ sau vài hôm, chúng lại theo nhau về lại nơi chiếc túi thân yêu! Đành vậy! Tính ôm đồm mà. Với bộ sưu tập túi và ví khổng lồ, Phương Anh có thể thư giãn với bạn bè bằng cách lôi chúng ra khoe, bình phẩm và ngắm nghía cả ngày. \\n\\n'"
      ]
     },
     "execution_count": 13,
     "metadata": {},
     "output_type": "execute_result"
    }
   ],
   "source": [
    "test_x[0]"
   ]
  },
  {
   "cell_type": "markdown",
   "id": "9ba54e91",
   "metadata": {},
   "source": [
    "#### Lưu dữ liệu"
   ]
  },
  {
   "cell_type": "code",
   "execution_count": 14,
   "id": "7a9b479f",
   "metadata": {},
   "outputs": [],
   "source": [
    "train_x_path = 'Data/train_x_raw.sav'\n",
    "train_y_path = 'Data/train_y_raw.sav'\n",
    "test_x_path = 'Data/test_x_raw.sav'\n",
    "test_y_path = 'Data/test_y_raw.sav'\n",
    "\n",
    "pickle.dump(train_x, open(train_x_path, 'wb'))\n",
    "pickle.dump(train_y, open(train_y_path, 'wb'))\n",
    "pickle.dump(test_x, open(test_x_path, 'wb'))\n",
    "pickle.dump(test_y, open(test_y_path, 'wb'))"
   ]
  },
  {
   "cell_type": "markdown",
   "id": "dfd87494",
   "metadata": {},
   "source": [
    "#### Load dữ liệu"
   ]
  },
  {
   "cell_type": "code",
   "execution_count": 3,
   "id": "a9c267e0",
   "metadata": {
    "scrolled": true
   },
   "outputs": [],
   "source": [
    "train_x = pickle.load(open('Data/train_x_raw.sav', 'rb'))\n",
    "train_y = pickle.load(open('Data/train_y_raw.sav', 'rb'))\n",
    "test_x = pickle.load(open('Data/test_x_raw.sav', 'rb'))\n",
    "test_y = pickle.load(open('Data/test_y_raw.sav', 'rb'))"
   ]
  },
  {
   "cell_type": "code",
   "execution_count": 16,
   "id": "e9950490",
   "metadata": {
    "scrolled": true
   },
   "outputs": [
    {
     "name": "stdout",
     "output_type": "stream",
     "text": [
      "Cate:  San khau dien anh\n",
      "Content:  Lớp học cho trẻ khuyết tật mang tên NSND Bảy Nam\n",
      "Nhân một năm ngày mất của cây đại thụ làng cải lương và kịch nói miền Nam, Sở Văn hóa Thông tin, Nhà hát Kịch TP HCM cùng nghệ sĩ NSƯT Kim Cương tổ chức đêm diễn \"Tưởng niệm NSND Bảy Nam\" vào ngày 15/8. Ban tổ chức sẽ trích 400 triệu đồng để mở lớp học vi tính mang tên bà dành cho trẻ em tàn tật. \n",
      "Những trích đoạn nổi tiếng của NSND Bảy Nam như Nhân danh công lý, Lá sầu riêng..., sẽ được NSƯT Kim Cương cùng với các nghệ sĩ tên tuổi tái hiện lại. Chương trình còn có sự tham gia của nhạc sĩ Nguyễn Ánh 9 với những sáng tác đặc biệt dành cho cố nghệ sĩ. Ca sĩ Ánh Tuyết và Đàm Vĩnh Hưng sẽ trình bày hai ca khúc Bông hồng cài áo, Đường xa vạn dặm. Đặc biệt, Giáo sư Trần Văn Khê cũng có mặt tại đêm diễn với tham luận \"Vai trò của NSND Bảy Nam và những người làm nền cho sân khấu\".\n",
      "Theo NSƯT Kim Cương, đây không phải là một chương trình biểu diễn mà chỉ là một suất diễn tưởng niệm NSND Bảy Nam, như một lời tri ân gửi tới những người từng diễn vai phụ thành công như bà. Thông qua chương trình, Ban tổ chức cũng muốn tôn vinh bà, người làm cho khán giả càng gắn bó và yêu sân khấu cải lương cũng như kịch nói hơn.\n",
      "Chương trình diễn ra tại Nhà hát thành phố và được Đài Truyền hình TP HCM truyền hình trực tiếp.\n",
      "\n",
      "\n",
      "-------------------------------\n",
      "Cate:  Am nhac\n",
      "Content:  Ngừng thu tiền bản quyền tác giả ở quán karaoke\n",
      "Mấy tuần nay, giới nhạc sĩ xôn xao về công văn mới của Bộ Văn hóa Thông tin, chỉ đạo các sở trực thuộc ngừng việc thu tiền bản quyền tác giả đối với các hộ kinh doanh karaoke, coi đó như một điều kiện để cấp giấy phép kinh doanh. Những trường hợp đã thu cần sớm làm thủ tục hoàn trả.\n",
      "Theo các nhạc sĩ, văn bản ra ngày 24/8 của Bộ Văn hóa - Thông tin (VHTT) đã đi ngược lại Nghị định của Chính phủ hướng dẫn thi hành một số quy định về quyền tác giả trong bộ Luật Dân sự. Nhạc sĩ Trương Ngọc Ninh bức xúc: \"Một quyết định không thuyết phục. Bộ VHTT ra văn bản làm cho đời sống nhạc sĩ thêm khó khăn. Lâu nay ở Việt Nam, nhiều văn bản và chỉ thị chỉ biết đề ra nhưng lại không được người có thẩm quyền hướng dẫn. Đây là một việc làm rất nguy hại, nếu giới chức ngày nay hầu như chỉ biết nghe một tai thì rất tổn hại cho uy tín của các nhạc sĩ.\n",
      "Nhạc sĩ Lương Nguyên (Phó giám đốc Trung tâm Bảo vệ quyền tác giả âm nhạc Việt Nam) thì cho rằng: \"Nếu Bộ VHTT ra văn bản 3422, yêu cầu ngừng việc thu tiền bản quyền tác giả, chúng tôi đề nghị cũng phải ra văn bản đến các đơn vị kinh doanh, cơ quan sử dụng tác phẩm, cấm sử dụng những tác phẩm âm nhạc của các nhạc sĩ đã đăng ký bản quyền với Trung tâm, như vậy mới công bằng. Chúng ta đang thực thi Công ước Berne trên mọi lĩnh vực văn hoá, nghệ thuật. Văn bản của Bộ VHTT ra đời ngày 24/8 như khuyến khích mọi người làm hàng lậu, hàng nhái, hàng trốn thuế\". \n",
      "CònGS-NSND Trọng Bằng (nguyên tổng thư ký Hội Nhạc sĩ VN) sau khi xem xong văn bản không muốn phát biểu gì, coi như là việc đã rồi. Ông chỉ nhắn nhủ với Trung tâm rằng: \"Giá như Bộ có sự trao đổi với Hội Nhạc sĩ VN thì tốt hơn. Không có sự trao đổi là gây khó cho Trung tâm. Chúng tôi sẽ thông báo việc này với tổ chức nước ngoài, thậm chí với tổ chức Bản quyền tác giả thế giới (Hiệp hội các tác giả và nhạc sĩ thế giới - CISAC và Tổ chức Sở hữu trí tuệ thế giới - WIPO)\".\n",
      "Về phía Bộ VHTT, ông Hoàng Hữu Lượng - Cục trưởng Báo chí - cho biết, Bộ ủng hộ thực hiện nghiêm chỉnh luật bản quyền và các văn bản ký với các nước như Công ước Berne, Công ước Geneva. \"Tuy nhiên, cần phải có sự thống nhất từ trên xuống. Việc thu phí thời gian qua là do Trung tâm Bảo vệ quyền tác giả âm nhạc Việt Nam tự đặt mức và nhờ các sở VHTT thu, mà chẳng hề báo cho Bộ biết. Trong khi đó, bản thân các sở không có chức năng này. Chính điều đó đã gây ra phản ứng ở 30 tỉnh thành đã thực hiện thu phí\", ông Lượng nói.\n",
      "Theo ông Lượng, Bộ rất thông cảm với nhạc sĩ và sẵn sàng bảo vệ quyền lợi của họ. Cơ quan quản lý về văn hóa quyết định ngừng thu tiền bản quyền tác giả đối với các hộ kinh doanh là để tổ chức lại việc này. Bộ sẽ làm việc với Bộ Tài chính để có hướng dẫn thống nhất trên toàn quốc. \"Trong tình hình các nhạc sĩ bức xúc thế này, cũng như để thực hiện nghiêm túc Luật Bản quyền, chúng tôi sẽ cố gắng làm sớm\", ông Lượng khẳng định.\n",
      "Song Toàn - Ý Phương\n",
      "\n",
      "\n",
      "\n",
      "-------------------------------\n",
      "Cate:  San pham tin hoc moi\n",
      "Content:  HP công bố bước đột phá về điện toán phân tử\n",
      "Trên tạp chí vật lý ứng dụng Journal of Applied Physics, đơn vị nghiên cứu lượng tử của HP cho biết thiết bị siêu nhỏ với chiều ngang tính bằng nanomét của họ có thể thực hiện một trong những chức năng logic quan trọng trong điện toán.\n",
      "HP đã thiết kế cái gọi là chốt giao điểm (crossbar latch) với một dây dẫn đơn được cắt ngang bởi 2 dây khác tại những điểm giao cắt nhỏ bằng đơn vị phân tử. Khi áp dụng một chuỗi xung điện, chốt này có thể thực hiện lệnh KHÔNG (NOT), một trong 3 phép toán cơ bản tạo nên logic cơ sở của một mạch điện máy tính, bên cạnh lệnh VÀ (AND) và HOẶC (OR).\n",
      "Theo Stan Williams, Giám đốc bộ phận nghiên cứu lượng tử của HP, khóa nói trên đem lại một yếu tố rất quan trọng cho việc xây dựng các máy tính sử dụng thiết bị nano với ưu thế rẻ tiền và dễ thiết lập. Chúng tôi đang tái phát minh máy tính theo quy mô phân tử, William phát biểu.\n",
      "Công nghệ mới của HP có thể được khai thác để bổ sung và thậm chí thay thế transistor vì loại thiết bị bán dẫn này được dự báo sẽ đi đến giới hạn vật lý trong vài năm tới, điều sẽ cản trở việc thu nhỏ chúng hơn nữa. Các chuyên gia của HP cho biết công nghệ của họ có thể dẫn đến việc máy tính trở nên mạnh hơn gấp hàng nghìn lần so với hiện nay.\n",
      "Hiện HP đang cố gắng tìm cách triển khai sản xuất đại trà và thương mại hóa công nghệ mới.\n",
      "\n",
      "\n",
      "-------------------------------\n",
      "Cate:  Cum ga\n",
      "Content:  Xuất hiện virus cúm gà đột biến ở Campuchia Một chủng cúm gà đột biến vừa được tìm thấy trên các mẫu bệnh phẩm ở Campuchia, tuy nhiên vẫn chưa biết chủng này có độc hơn so với virus H5N1 từng giết hại 4 người ở đây. Gà được nuôi thả ở tỉnh An Huy, Trung Quốc. Trưởng phòng Siêu vi khuẩn, Viện Pasteur Campuchia, ông Philippe Buchy cho biết, công việc kiểm tra các mẫu bệnh phẩm trên vẫn đang tiếp diễn và \"hiện chưa rõ có bước tiến đáng kể nào về khả năng truyền bệnh từ người sang người, hoặc từ gia cầm sang người của virus\". Vị lãnh đạo này cũng bổ sung rằng các đột biến của dòng virus H5 khá phổ biến, và \"chúng đã được các chuyên gia H5 của Tổ chức Y tế Thế giới xem xét, song chưa thấy họ tiết lộ điều gì\". Kể từ tháng 3 cho tới nay, Campuchia không có ca bệnh mới cả ở người và gia cầm. Tuy nhiên, đất nước này hiện nay không có phương tiện để kiểm tra và phát hiện những chủng cúm mới, khiến cho việc kiểm soát nguy cơ bùng phát trong tương lai rất khó khăn. Trong khi đó, chính phủ Trung Quốc đang nỗ lực trấn an người dân sau khi phát hiện người thứ hai chết vì cúm gà. Hôm qua, Bộ Y tế nước này thông báo, nạn nhân mới là một nữ nông dân 35 tuổi tên là Xu, tử vong sau 11 ngày bị sốt cao và có triệu chứng giống viêm phổi. \"Bệnh tình của cô ấy rất tồi tệ và mọi cố gắng cứu vãn đều thất bại. Bệnh nhân từng tiếp xúc với gia cầm bệnh\", tờ People's Daily nói thêm về người phụ nữ ở tỉnh An Huy này, cách khoảng 100 km so với nơi sinh sống của một thai phụ 24 tuổi đã tử vong đầu tháng 11 và được khẳng định là nạn nhân cúm gà đầu tiên của Trung Quốc. Hôm qua, Trung Quốc lại có thêm một vụ bùng phát mới trong gia cầm ở vùng Tân Cương, nâng tổng số vụ dịch trong năm lên 25. \"Nỗi lo sợ về khả năng truyền bệnh từ người sang người của virus cứ lớn dần theo mỗi ca bệnh mới ở người hoặc gia cầm\", tờ China's Daily viết. Trước sự leo thang của nạn dịch cúm gà, công ty Sinovac Biotech Ltd của Trung Quốc đang nỗ lực tiến gần tới một cuộc thử nghiệm lâm sàng một loại văcxin vừa phát triển. Tuy nhiên, có thể sẽ phải mất 1 năm trước khi \"văcxin phòng cúm đại dịch\" này hoàn thành các thử nghiệm lâm sàng vòng 2, và có mặt trên thị trường với giá rẻ hơn so với một mũi tiêm chủng cúm thường. Châu Á lại có thêm một điểm dịch cúm gà mới, đó là tỉnh Aceh, Indonesia, nơi vừa bị thiệt hại nặng nề do cơn sóng thần năm ngoái. Bộ Nông nghiệp Indonesia cho biết vụ dịch đã xuất hiện 3 tuần trước. Thủ phạm là virus H5N1, làm chết hàng trăm con gà ở 3 quận của tỉnh. Cho tới nay, số gà chết và bệnh đều đã bị tiêu huỷ. Aceh đang thực hiện các biện pháp khử trùng các điểm dịch và kêu gọi nông dân \"để ý hơn\" tới số gia cầm của mình.\n",
      "\n",
      "\n",
      "-------------------------------\n",
      "Cate:  Gia dinh\n",
      "Content:   Tìm về sự thánh thiện Trước sức ép thường xuyên của công việc và trách nhiệm xã hội trong cuộc sống không ngừng biến chuyển, người đàn ông thời nay đang tự thay đổi theo bản năng thích nghi.\n",
      "Họ cũng “đứng mũi chịu sào”, cũng yêu, cũng vui thú với cuộc sống… nhưng theo cách riêng của mình. \n",
      "Khi yêu, người ta bắt đầu biết mình, hiểu mình, ngắm nhìn mình, và rồi… quên mình! Cách thức hiểu và quên mình như thế nào sẽ giúp người khác tri giác được phần nào đó tính chất của tình yêu và diễn biến của nó. \n",
      "Chất hiện đại thể hiện trong tình yêu của người đàn ông ngày nay là sự phản ánh tính hiện đại của đối tượng của họ. Người đẹp hiện đại thích bộc lộ cảm xúc một cách mạnh mẽ, không hẳn là “nam tính” mà là sự “tiến bộ vượt bậc” trên con đường chinh phục các quý ông bằng chính sức mạnh của mình, bằng chính bản lĩnh của mình. Ở một khía cạnh nào đó, đàn ông hiện đại thời nay có xu hướng trở nên bị động trong việc thực hiện sự chủ động của mình. \n",
      "Một sự thụ động rất đáng yêu và cũng đáng lo, cho dù họ vẫn giữ được sự hấp dẫn của sức mạnh tiềm tàng đối với phụ nữ. Sự thánh thiện trong tình yêu của người đàn ông hiện đại được nhấn mạnh trong tư duy của chính họ, họ đang lo phải đánh mất cái quý nhất của mình, họ sợ bị mất… “trinh tiết”. \n",
      "Đó là một sự thay đổi có vẻ như bất thường nhưng lại không đi ngược quy luật khi họ đang có cảm nhận mình là hàng “hiếm”, hàng “độc”. Người đàn ông thời nay có vẻ như cảm thấy chột dạ và luống cuống khi một số quý bà loay hoay kiếm tìm hạnh phúc cho mình một cách thật vô tư và tự nhiên như… người tiền sử. \n",
      "Một số quý ông đã trốn chạy để giữ vững sự “trong sáng”, để không bị cho là kẻ “đào mỏ” hay “chuột sa hũ nếp”. Họ đang đi tìm và chứng minh sự thánh thiện của mình tuy rất khó khăn và đầy bất trắc! Nhiều người có lẽ vì cuộc sống quá đỗi rộn ràng, vì thời gian trôi qua chóng vánh nên họ đã không kịp đánh thức “cái ấy” (cái ấy trong cấu trúc nhân cách theo quan điểm của S. Freud) mà chỉ muốn lắng lại và hình như là… thánh thiện. Họ chỉ thích ngắm nhìn người đẹp, thích bình phẩm và thưởng thức pho tượng thẩm mỹ độc đáo và rồi cố tạo dựng một biểu tượng và họ thích… tưởng tượng. Trong trường hợp này, họ cũng đang tập thánh thiện trong tình yêu! \n",
      "Người đàn ông thời nay lại có khuynh hướng thích nghe lời mật ngọt, thích được tâng bốc trước người đẹp, thích được vuốt ve bằng những ngôn từ có cánh, thích được người ta nịnh cho dù họ vẫn không khoái những tên nịnh. \n",
      "Đàn ông đang tự làm mới mình trước cái nhìn của thiên hạ, muốn cho mọi người thấy rằng không chỉ phụ nữ mới là phái đẹp. Do đó, nhiều người thích bóng bẩy hơn một chút, điệu đàng hơn một chút, chừng mực hơn một chút và lãng mạn hơn một chút. Có thể trong xu thế ít bị phụ thuộc vào các tác động bên ngoài như thuốc lá hoặc các chất kích thích khác, người đàn ông như quay về gần hơn với chính mình, tinh tế hơn, tình cảm hơn và đặc biệt là hướng nội hơn. \n",
      "Hơn nữa, trong xu thế mở rộng không gian sinh hoạt, người đàn ông như thấy mình siêng năng hơn để thích ứng với môi trường không có phụ nữ. Nhiều người phải đảm nhiệm vai trò của phụ nữ trong gia đình hoặc ngay cả ở nơi làm việc nên họ ngày càng hiểu phụ nữ hơn, cảm phụ nữ hơn và yêu phụ nữ một cách “thánh thiện” hơn. Nhiều người đã tự mình nhớ ngày sinh của vợ chứ không phải chỉ cố nhớ ngày sinh của… bạn gái. Nhiều người đã tự mình mua sắm trang phục cho mình và cho cả vợ mình. Đó là những bước tiến mới trên con đường chinh phục một tình yêu thánh thiện, tình yêu không chỉ có sở hữu mà còn là sự tương tác thuận lòng để được yêu, được hưởng hương vị ngọt ngào của sự đợi chờ, sự mong nhớ bên cạnh những nụ hôn nồng cháy. \n",
      "Phụ nữ luôn có sức hấp dẫn. Người đàn ông không thể sống mà không có phụ nữ. Đó là quy luật, là ân huệ hay là bản năng đều có vẻ hợp lý. Nhưng thời nay, với một cơ chế mở và môi trường động, người phụ nữ không còn là “nỗi ám ảnh” duy nhất của người đàn ông, không còn là đối tượng được “săn đuổi” duy nhất nữa. Nhiều quý ông đã không còn “nghiện” phụ nữ một cách đơn giản nữa, họ có thể bị “chia lửa” bởi các đối tượng đa dạng khác, trong đó có các đối tượng phi vật chất, những đối tượng phi thực tại (phiêu lưu ảo, du lịch ảo…). Chính điều này đã làm người đàn ông trở nên khép kín hơn một chút, trở nên phụ thuộc hơn một chút, trở nên “yếu” đi một chút đối với phụ nữ. Phải chăng đó là chút thánh thiện trong tình yêu của người đàn ông thời nay? \n",
      "Thời hiện đại, dường như người đàn ông thể hiện tình yêu một cách từ tốn hơn, họ không bị áp lực quá lớn, không bị yếu tố tình dục chi phối quá mạnh trong các quan hệ thông thường với người đẹp. Điều này không có nghĩa là người đàn ông không còn ham muốn tình dục, nhưng tính chất của nó có thay đổi. Cho dù chưa có kinh nghiệm yêu đương, nhưng không ít bạn trai trẻ đã không “yêu như chưa yêu lần nào”. \n",
      "Ngày nay, họ có nhiều điều kiện để khám phá, nhưng vấn đề là nhiều người lại không chịu khám phá và chọn cách an phận cô đơn. Khuynh hướng sống độc thân là một hiện tượng xuất hiện khá rõ hiện nay, không chỉ với nữ giới mà ở cả đàn ông, những người thường ít chịu đựng được sự cô đơn. \n",
      "Ngày nay, người đàn ông rất dễ quên mình, quên sự hiện hữu của mình và nhiều lúc quên cả là mình đang yêu. Đó là một phong cách yêu mới của đàn ông. Họ yêu nhiều thứ, quan tâm đến nhiều thứ và cũng lo lắng sợ hãi về mọi thứ trong tình yêu. Tình yêu vẫn là một thử thách sự kiên trì của người đàn ông. Một người đang yêu thật sự là người biết “mai phục” để chiếm lĩnh mục tiêu. Một người đang yêu là người đang trải nghiệm sự tự vấn về mình để đối chiếu với những khuôn thước của người đẹp. Phái đẹp thường mong đợi ở người đàn ông, dù hiện đại, một sự chân thật, một sự mạnh mẽ, một sự tài hoa. Khi yêu, người đàn ông mới trở lại là mình, chính hiệu về mình! \n",
      "\n",
      "\n",
      "-------------------------------\n"
     ]
    }
   ],
   "source": [
    "# Test dữ liệu đã load được\n",
    "random_list = random.sample(range(0, len(train_x) - 1), 5);\n",
    "for i in random_list:\n",
    "    print(\"Cate: \", train_y[i])\n",
    "    print(\"Content: \", train_x[i])\n",
    "    print('-------------------------------')"
   ]
  },
  {
   "cell_type": "markdown",
   "id": "7f0beb21",
   "metadata": {},
   "source": [
    "### Đánh giá sơ bộ tập dữ liệu"
   ]
  },
  {
   "cell_type": "code",
   "execution_count": 4,
   "id": "0dfc6b11",
   "metadata": {},
   "outputs": [
    {
     "name": "stdout",
     "output_type": "stream",
     "text": [
      "Độ dài trung bình: 518.9140869565217\n"
     ]
    }
   ],
   "source": [
    "# Tính độ dài trung bình của tập dữ liệu\n",
    "def sentence_len(text):\n",
    "    return len(text.split(\" \"))\n",
    "\n",
    "len_list = []\n",
    "\n",
    "for content in train_x:\n",
    "    len_list.append(sentence_len(content))\n",
    "\n",
    "print('Độ dài trung bình:', np.mean(len_list))"
   ]
  },
  {
   "cell_type": "code",
   "execution_count": 6,
   "id": "3e4741a0",
   "metadata": {
    "scrolled": false
   },
   "outputs": [
    {
     "data": {
      "image/png": "[encoded data removed]",
      "text/plain": [
       "<Figure size 1152x576 with 1 Axes>"
      ]
     },
     "metadata": {
      "needs_background": "light"
     },
     "output_type": "display_data"
    }
   ],
   "source": [
    "# Vẽ biểu đồ để quan sát phân bố độ dài của từng văn bản\n",
    "plt.figure(figsize=(16,8))\n",
    "plt.title(\"Độ dài các tin tức\")\n",
    "plt.xlabel(\"Độ dài (từ)\")\n",
    "plt.ylabel(\"Số tin tức\")\n",
    "plt.hist(np.array(len_list), bins=int(math.sqrt(len(len_list))), histtype='step', range=(0, 4000))\n",
    "plt.savefig('image/dataset_before_preprocess.png', facecolor='whitesmoke', bbox_inches='tight')\n",
    "plt.show()"
   ]
  },
  {
   "cell_type": "markdown",
   "id": "cbd5e48d",
   "metadata": {},
   "source": [
    "## Tiền xử lý gồm những việc sau:\n",
    "- Xoá HTML code\n",
    "- Chuẩn hóa bảng mã Unicode\n",
    "- Chuẩn hóa kiểu gõ dấu tiếng Việt (dùng òa úy thay cho oà uý)\n",
    "- Đưa văn bản về dạng viết thường\n",
    "- Thực hiện tách từ tiếng Việt\n",
    "- Xóa các ký tự đặc biệt\n",
    "- Loại bỏ stopwords"
   ]
  },
  {
   "cell_type": "markdown",
   "id": "38d33474",
   "metadata": {},
   "source": [
    "#### 1. Xoá HTML code\n",
    "Dữ liệu thu thập từ các trang web có thể có những đoạn mã HTML. Những đoạn mã này không được sử dụng và làm kém chất lượng của dữ liệu.\n",
    "Để xoá những đoạn mã HTML, ta dùng regex (Regular Expression) trong Python."
   ]
  },
  {
   "cell_type": "code",
   "execution_count": 19,
   "id": "bfad1def",
   "metadata": {},
   "outputs": [
    {
     "data": {
      "text/plain": [
       "'Đây là 1 ví dụ xoá html code'"
      ]
     },
     "execution_count": 19,
     "metadata": {},
     "output_type": "execute_result"
    }
   ],
   "source": [
    "import re\n",
    "# hàm xoá html code\n",
    "def remove_html(txt):\n",
    "    return re.sub(r'<[^>]*>', '', txt)\n",
    "\n",
    "#ví dụ\n",
    "txt = \"<p class=\\\"par\\\">Đây là 1 ví dụ xoá html code</p>\"\n",
    "remove_html(txt)"
   ]
  },
  {
   "cell_type": "markdown",
   "id": "a9bbe0e3",
   "metadata": {},
   "source": [
    "#### 2. Chuẩn hoá bảng mã Unicode\n",
    "Hiện nay, có 2 loại mã Unicode được sử dụng phổ biến, **Unicode tổ hợp** và **Unicode dựng sẵn**. Việc sử dụng 2 loại mã khác nhau sẽ dẫn đến kết quả khác nhau.\n",
    "Ví dụ"
   ]
  },
  {
   "cell_type": "code",
   "execution_count": 19,
   "id": "040f25c2",
   "metadata": {},
   "outputs": [
    {
     "data": {
      "text/plain": [
       "True"
      ]
     },
     "execution_count": 19,
     "metadata": {},
     "output_type": "execute_result"
    }
   ],
   "source": [
    "'hiếu' == 'hiếu'"
   ]
  },
  {
   "cell_type": "code",
   "execution_count": 20,
   "id": "d2a037ff",
   "metadata": {},
   "outputs": [
    {
     "data": {
      "text/plain": [
       "False"
      ]
     },
     "execution_count": 20,
     "metadata": {},
     "output_type": "execute_result"
    }
   ],
   "source": [
    "'hiếu' == 'hiếu'"
   ]
  },
  {
   "cell_type": "markdown",
   "id": "4829b8ed",
   "metadata": {},
   "source": [
    "Để giải quyết vấn đề này, ta đưa tất cả dữ liệu về loại mã **Unicode dựng sẵn** vì nó khá phổ biến"
   ]
  },
  {
   "cell_type": "code",
   "execution_count": 20,
   "id": "00159c0f",
   "metadata": {},
   "outputs": [],
   "source": [
    "uniChars = \"àáảãạâầấẩẫậăằắẳẵặèéẻẽẹêềếểễệđìíỉĩịòóỏõọôồốổỗộơờớởỡợùúủũụưừứửữựỳýỷỹỵÀÁẢÃẠÂẦẤẨẪẬĂẰẮẲẴẶÈÉẺẼẸÊỀẾỂỄỆĐÌÍỈĨỊÒÓỎÕỌÔỒỐỔỖỘƠỜỚỞỠỢÙÚỦŨỤƯỪỨỬỮỰỲÝỶỸỴÂĂĐÔƠƯ\"\n",
    "unsignChars = \"aaaaaaaaaaaaaaaaaeeeeeeeeeeediiiiiooooooooooooooooouuuuuuuuuuuyyyyyAAAAAAAAAAAAAAAAAEEEEEEEEEEEDIIIOOOOOOOOOOOOOOOOOOOUUUUUUUUUUUYYYYYAADOOU\"\n",
    "\n",
    "# Hàm tạo dict để chuyển định dạng\n",
    "def loaddicchar():\n",
    "    dic = {}\n",
    "    char1252 = 'à|á|ả|ã|ạ|ầ|ấ|ẩ|ẫ|ậ|ằ|ắ|ẳ|ẵ|ặ|è|é|ẻ|ẽ|ẹ|ề|ế|ể|ễ|ệ|ì|í|ỉ|ĩ|ị|ò|ó|ỏ|õ|ọ|ồ|ố|ổ|ỗ|ộ|ờ|ớ|ở|ỡ|ợ|ù|ú|ủ|ũ|ụ|ừ|ứ|ử|ữ|ự|ỳ|ý|ỷ|ỹ|ỵ|À|Á|Ả|Ã|Ạ|Ầ|Ấ|Ẩ|Ẫ|Ậ|Ằ|Ắ|Ẳ|Ẵ|Ặ|È|É|Ẻ|Ẽ|Ẹ|Ề|Ế|Ể|Ễ|Ệ|Ì|Í|Ỉ|Ĩ|Ị|Ò|Ó|Ỏ|Õ|Ọ|Ồ|Ố|Ổ|Ỗ|Ộ|Ờ|Ớ|Ở|Ỡ|Ợ|Ù|Ú|Ủ|Ũ|Ụ|Ừ|Ứ|Ử|Ữ|Ự|Ỳ|Ý|Ỷ|Ỹ|Ỵ'.split(\n",
    "        '|')\n",
    "    charutf8 = \"à|á|ả|ã|ạ|ầ|ấ|ẩ|ẫ|ậ|ằ|ắ|ẳ|ẵ|ặ|è|é|ẻ|ẽ|ẹ|ề|ế|ể|ễ|ệ|ì|í|ỉ|ĩ|ị|ò|ó|ỏ|õ|ọ|ồ|ố|ổ|ỗ|ộ|ờ|ớ|ở|ỡ|ợ|ù|ú|ủ|ũ|ụ|ừ|ứ|ử|ữ|ự|ỳ|ý|ỷ|ỹ|ỵ|À|Á|Ả|Ã|Ạ|Ầ|Ấ|Ẩ|Ẫ|Ậ|Ằ|Ắ|Ẳ|Ẵ|Ặ|È|É|Ẻ|Ẽ|Ẹ|Ề|Ế|Ể|Ễ|Ệ|Ì|Í|Ỉ|Ĩ|Ị|Ò|Ó|Ỏ|Õ|Ọ|Ồ|Ố|Ổ|Ỗ|Ộ|Ờ|Ớ|Ở|Ỡ|Ợ|Ù|Ú|Ủ|Ũ|Ụ|Ừ|Ứ|Ử|Ữ|Ự|Ỳ|Ý|Ỷ|Ỹ|Ỵ\".split(\n",
    "        '|')\n",
    "    for i in range(len(char1252)):\n",
    "        dic[char1252[i]] = charutf8[i]\n",
    "    return dic\n",
    "\n",
    "dicchar = loaddicchar()\n",
    " \n",
    "# Đưa toàn bộ dữ liệu qua hàm này để chuẩn hóa lại\n",
    "def convert_unicode(txt):\n",
    "    return re.sub(\n",
    "        r'à|á|ả|ã|ạ|ầ|ấ|ẩ|ẫ|ậ|ằ|ắ|ẳ|ẵ|ặ|è|é|ẻ|ẽ|ẹ|ề|ế|ể|ễ|ệ|ì|í|ỉ|ĩ|ị|ò|ó|ỏ|õ|ọ|ồ|ố|ổ|ỗ|ộ|ờ|ớ|ở|ỡ|ợ|ù|ú|ủ|ũ|ụ|ừ|ứ|ử|ữ|ự|ỳ|ý|ỷ|ỹ|ỵ|À|Á|Ả|Ã|Ạ|Ầ|Ấ|Ẩ|Ẫ|Ậ|Ằ|Ắ|Ẳ|Ẵ|Ặ|È|É|Ẻ|Ẽ|Ẹ|Ề|Ế|Ể|Ễ|Ệ|Ì|Í|Ỉ|Ĩ|Ị|Ò|Ó|Ỏ|Õ|Ọ|Ồ|Ố|Ổ|Ỗ|Ộ|Ờ|Ớ|Ở|Ỡ|Ợ|Ù|Ú|Ủ|Ũ|Ụ|Ừ|Ứ|Ử|Ữ|Ự|Ỳ|Ý|Ỷ|Ỹ|Ỵ',\n",
    "        lambda x: dicchar[x.group()], txt)\n",
    " "
   ]
  },
  {
   "cell_type": "code",
   "execution_count": 22,
   "id": "dbca663b",
   "metadata": {},
   "outputs": [
    {
     "name": "stdout",
     "output_type": "stream",
     "text": [
      "False\n",
      "True\n",
      "True\n"
     ]
    }
   ],
   "source": [
    "#Thử nghiệm\n",
    "type1 = 'hiếu' # Loại dựng sẵn\n",
    "type2 = 'hiếu' # Loại tổ hợp\n",
    "\n",
    "print(type1 == type2)\n",
    "# Nếu là loại dựng sẵn thì không thay đổi\n",
    "print(type1 == convert_unicode(type1))\n",
    "# Nếu là loại tổ hợp thì sẽ đưa về loại dựng sẵn\n",
    "print(type1 == convert_unicode(type2))"
   ]
  },
  {
   "cell_type": "markdown",
   "id": "fdaece81",
   "metadata": {},
   "source": [
    "#### 3. Chuẩn hoá kiểu gõ dấu và đưa về dạng viết thường\n",
    "  Bằng mắt thường, ta cũng có thể phân biệt được hai kiểu gõ dấu: **oà** và **òa**, lần lượt là kiểu gõ mới và cũ (phổ biến hơn). Lỗi gõ dấu thường xảy ra là do cách đánh máy của người viết báo, do khác bộ mã hoặc đôi khi nó thường xuất hiện trong các văn bản cũ. Tuy nhiên việc khác bộ mã đã được xử lý ở trên, do đó, ở phần này, ta sẽ sửa những kiểu gõ dấu tiếng Việt khác nhau về kiểu cũ (phổ biến hơn): **òa**"
   ]
  },
  {
   "cell_type": "markdown",
   "id": "1fa59646",
   "metadata": {},
   "source": [
    "Việc đưa các từ trong câu về chữ viết thường là rất cần thiết. Bởi vì đặc trưng này không có tác dụng ở bài toán phân loại văn bản. Đưa về chữ viết thường giúp giảm số lượng đặc trưng phải học (vì máy hiểu chữ hoa chữ thường là 2 chữ khác nhau) và tăng độ chính xác hơn cho mô hình."
   ]
  },
  {
   "cell_type": "code",
   "execution_count": 1,
   "id": "c0e3b15f",
   "metadata": {},
   "outputs": [
    {
     "name": "stdout",
     "output_type": "stream",
     "text": [
      "False\n",
      "True\n"
     ]
    }
   ],
   "source": [
    "# Danh sách nguyên âm và các dấu\n",
    "bang_nguyen_am = [['a', 'à', 'á', 'ả', 'ã', 'ạ', 'a'],\n",
    "                  ['ă', 'ằ', 'ắ', 'ẳ', 'ẵ', 'ặ', 'aw'],\n",
    "                  ['â', 'ầ', 'ấ', 'ẩ', 'ẫ', 'ậ', 'aa'],\n",
    "                  ['e', 'è', 'é', 'ẻ', 'ẽ', 'ẹ', 'e'],\n",
    "                  ['ê', 'ề', 'ế', 'ể', 'ễ', 'ệ', 'ee'],\n",
    "                  ['i', 'ì', 'í', 'ỉ', 'ĩ', 'ị', 'i'],\n",
    "                  ['o', 'ò', 'ó', 'ỏ', 'õ', 'ọ', 'o'],\n",
    "                  ['ô', 'ồ', 'ố', 'ổ', 'ỗ', 'ộ', 'oo'],\n",
    "                  ['ơ', 'ờ', 'ớ', 'ở', 'ỡ', 'ợ', 'ow'],\n",
    "                  ['u', 'ù', 'ú', 'ủ', 'ũ', 'ụ', 'u'],\n",
    "                  ['ư', 'ừ', 'ứ', 'ử', 'ữ', 'ự', 'uw'],\n",
    "                  ['y', 'ỳ', 'ý', 'ỷ', 'ỹ', 'ỵ', 'y']]\n",
    "# Danh sách dấu tương ứng với danh sách nguyên âm bên trên\n",
    "bang_ky_tu_dau = ['', 'f', 's', 'r', 'x', 'j']\n",
    "\n",
    "# Chuyển ký tự sang chỉ số (i, j), trong đó i là nguyên âm và j là dấu tương ứng\n",
    "nguyen_am_to_ids = {}\n",
    "\n",
    "# Tạo dict\n",
    "for i in range(len(bang_nguyen_am)):\n",
    "    for j in range(len(bang_nguyen_am[i]) - 1):\n",
    "        nguyen_am_to_ids[bang_nguyen_am[i][j]] = (i, j)\n",
    "nguyen_am_to_ids['à']\n",
    "\n",
    "# Kiểm tra tính hợp lệ của từ trong tiếng Việt\n",
    "# Các nguyên âm sẽ đứng cạnh nhau tạo thành cụm, và mỗi từ tối đa 1 cụm nguyên âm\n",
    "# Nguyên->Ng(uyê)n, Chào->Ch(ào), Ngủ->Ng(ủ)\n",
    "def is_valid_vietnam_word(word):\n",
    "    chars = list(word)\n",
    "    nguyen_am_index = -1\n",
    "    \n",
    "    # Duyệt từng ký tự trong một từ\n",
    "    for index, char in enumerate(chars):\n",
    "        x, y = nguyen_am_to_ids.get(char, (-1, -1)) # x xác định nguyên âm, y xác định dấu\n",
    "        if x != -1: # Nếu char là nguyên âm\n",
    "            if nguyen_am_index == -1: # Nếu chưa tìm thấy nguyên âm\n",
    "                nguyen_am_index = index\n",
    "            else: # Nếu đã tìm thấy nguyên âm\n",
    "                if index - nguyen_am_index != 1: # Nếu nguyên âm không đứng cạnh nguyên âm đã tìm thấy\n",
    "                    return False\n",
    "                nguyen_am_index = index\n",
    "    return True\n",
    "\n",
    "print(is_valid_vietnam_word('Hello'))\n",
    "print(is_valid_vietnam_word('Nguyên'))"
   ]
  },
  {
   "cell_type": "code",
   "execution_count": 10,
   "id": "30d700ea",
   "metadata": {},
   "outputs": [
    {
     "name": "stdout",
     "output_type": "stream",
     "text": [
      "hai đội đã hòa nhau. trận đấu rất hay! quá tuyệt vời!\n"
     ]
    }
   ],
   "source": [
    "def chuan_hoa_dau_tu_tieng_viet(word):\n",
    "    if not is_valid_vietnam_word(word): # Không phải từ tiếng việt sẽ không xử lý và trả lại.\n",
    "        return word\n",
    "\n",
    "    chars = list(word)\n",
    "    dau_cau = 0\n",
    "    nguyen_am_index = []\n",
    "    qu_or_gi = False\n",
    "    \n",
    "    for index, char in enumerate(chars): # Duyệt từng ký tự\n",
    "        x, y = nguyen_am_to_ids.get(char, (-1, -1))\n",
    "\n",
    "        if x == -1: # Nếu ký tự là phụ âm\n",
    "            continue\n",
    "        elif x == 9:  # check \"qu\"\n",
    "            if index != 0 and chars[index - 1] == 'q':\n",
    "                chars[index] = 'u'\n",
    "                qu_or_gi = True\n",
    "        elif x == 5:  # check \"gi\"\n",
    "            if index != 0 and chars[index - 1] == 'g':\n",
    "                chars[index] = 'i'\n",
    "                qu_or_gi = True\n",
    "        \n",
    "        if y != 0: # Nếu có dấu\n",
    "            dau_cau = y\n",
    "            chars[index] = bang_nguyen_am[x][0] # Bỏ dấu\n",
    "        \n",
    "        # Nếu không phải trường hợp 'qu' hoặc 'gi' hoặc là index khác 1 (nguyên âm từ ký tự thứ 3 trở đi)\n",
    "        if not qu_or_gi or index != 1:\n",
    "            nguyen_am_index.append(index)\n",
    "    \n",
    "    if len(nguyen_am_index) < 2:\n",
    "        if qu_or_gi:\n",
    "            if len(chars) == 2:\n",
    "                x, y = nguyen_am_to_ids.get(chars[1])\n",
    "                chars[1] = bang_nguyen_am[x][dau_cau]\n",
    "            else:\n",
    "                x, y = nguyen_am_to_ids.get(chars[2], (-1, -1))\n",
    "                if x != -1:\n",
    "                    chars[2] = bang_nguyen_am[x][dau_cau]\n",
    "                else:\n",
    "                    chars[1] = bang_nguyen_am[5][dau_cau] if chars[1] == 'i' else bang_nguyen_am[9][dau_cau]\n",
    "            return ''.join(chars)\n",
    "        return word\n",
    "\n",
    "    for index in nguyen_am_index:\n",
    "        x, y = nguyen_am_to_ids[chars[index]]\n",
    "        if x == 4 or x == 8:  # ê, ơ\n",
    "            chars[index] = bang_nguyen_am[x][dau_cau]\n",
    "            return ''.join(chars)\n",
    "\n",
    "    if len(nguyen_am_index) == 2:\n",
    "        if nguyen_am_index[-1] == len(chars) - 1:\n",
    "            x, y = nguyen_am_to_ids[chars[nguyen_am_index[0]]]\n",
    "            chars[nguyen_am_index[0]] = bang_nguyen_am[x][dau_cau]\n",
    "        else:\n",
    "            x, y = nguyen_am_to_ids[chars[nguyen_am_index[1]]]\n",
    "            chars[nguyen_am_index[1]] = bang_nguyen_am[x][dau_cau]\n",
    "    else:\n",
    "        x, y = nguyen_am_to_ids[chars[nguyen_am_index[1]]]\n",
    "        chars[nguyen_am_index[1]] = bang_nguyen_am[x][dau_cau]\n",
    "    return ''.join(chars)\n",
    "\n",
    "# Chuẩn hoá dấu câu cho cả câu và đưa về dạng viết thường\n",
    "def chuan_hoa_dau_cau_tieng_viet(sentence):\n",
    "    sentence = sentence.lower() # Chuyển về dạng viết thường\n",
    "    words = sentence.split()\n",
    "    \n",
    "    # Xử lý trên từng từ\n",
    "    for index, word in enumerate(words):\n",
    "        cw = re.sub(r'(^\\p{P}*)([p{L}.]*\\p{L}+)(\\p{P}*$)', r'\\1/\\2/\\3', word).split('/')\n",
    "        if len(cw) == 3:\n",
    "            cw[1] = chuan_hoa_dau_tu_tieng_viet(cw[1])\n",
    "        words[index] = ''.join(cw)\n",
    "    return ' '.join(words)\n",
    "\n",
    "print(chuan_hoa_dau_cau_tieng_viet(\"Hai đội đã hoà nhau. Trận đấu rất hay! Quá tuyệt vời!\"))"
   ]
  },
  {
   "cell_type": "markdown",
   "id": "2b218a78",
   "metadata": {},
   "source": [
    "#### 4. Tách từ tiếng việt"
   ]
  },
  {
   "cell_type": "markdown",
   "id": "d454dfd0",
   "metadata": {},
   "source": [
    "Đơn vị từ trong tiếng việt gồm từ đơn (học) và từ ghép (học sinh). Ta phải xử lý để mô hình học máy cần phân biệt được từ đơn và từ ghép. Nếu không, đối với máy tất cả đều là từ đơn."
   ]
  },
  {
   "cell_type": "markdown",
   "id": "26dbbc09",
   "metadata": {},
   "source": [
    "Mô hình học sẽ coi các từ là đặc trưng, phân tách bởi dấu cách. Ta cần phải nối các từ ghép lại"
   ]
  },
  {
   "cell_type": "markdown",
   "id": "3789d175",
   "metadata": {},
   "source": [
    "Ví dụ: Học sinh học sinh học -> Học_sinh học sinh_học"
   ]
  },
  {
   "cell_type": "markdown",
   "id": "cf7e63e2",
   "metadata": {},
   "source": [
    "Bài toán này là một bài toán cơ sở trong NLP. Hiện nay có khá nhiều thư viện mã nguồn mở giải quyết bài toán này như **underthesea** và **pyvi**. Trong bài này, ta sẽ sử dụng thư viện **underthesea**"
   ]
  },
  {
   "cell_type": "code",
   "execution_count": 23,
   "id": "edf8a458",
   "metadata": {},
   "outputs": [
    {
     "name": "stdout",
     "output_type": "stream",
     "text": [
      "['Chàng', 'trai', '2000', 'Hải Dương', 'khởi nghiệp', 'từ', 'nghề', 've chai', ',', 'sau', '10', 'năm', ',', 'anh', 'ấy', 'thành', 'vua', 've chai']\n",
      "Chàng trai 2000 Hải_Dương khởi_nghiệp từ nghề ve_chai , sau 10 năm , anh ấy thành vua ve_chai\n"
     ]
    }
   ],
   "source": [
    "# Import thư viện underthesea\n",
    "from underthesea import word_tokenize\n",
    "\n",
    "# Ví dụ\n",
    "sentence = \"Chàng trai 2000 Hải Dương khởi nghiệp từ nghề ve chai, sau 10 năm, anh ấy thành vua ve chai\"\n",
    "print(word_tokenize(sentence))\n",
    "print(word_tokenize(sentence, format=\"text\"))"
   ]
  },
  {
   "cell_type": "markdown",
   "id": "86d90dd6",
   "metadata": {},
   "source": [
    "#### 5. Xoá các ký tự không cần thiết"
   ]
  },
  {
   "cell_type": "markdown",
   "id": "beefb5a1",
   "metadata": {},
   "source": [
    "Việc loại bỏ các ký tự không cần thiết giúp:\n",
    "- Giảm số chiều đặc trưng, tăng tốc độc học và xử lý\n",
    "- Tránh gây nhiễu, ảnh hưởng xấu tới kết quả mô hình"
   ]
  },
  {
   "cell_type": "markdown",
   "id": "d5f9f3ef",
   "metadata": {},
   "source": [
    "Loại các dấu ngắt câu, các ký tự đặc biệt"
   ]
  },
  {
   "cell_type": "code",
   "execution_count": 24,
   "id": "47a9e187",
   "metadata": {},
   "outputs": [],
   "source": [
    "def remove_unnecessary_character(document):\n",
    "    # Xoá các ký tự không cần thiết\n",
    "    document = re.sub(r'[^\\s\\wáàảãạăắằẳẵặâấầẩẫậéèẻẽẹêếềểễệóòỏõọôốồổỗộơớờởỡợíìỉĩịúùủũụưứừửữựýỳỷỹỵđ_]',' ',document)\n",
    "    # Xoá khoảng trắng thừa\n",
    "    document = re.sub(r'\\s+', ' ', document).strip()\n",
    "    return document"
   ]
  },
  {
   "cell_type": "code",
   "execution_count": 27,
   "id": "c56234b6",
   "metadata": {},
   "outputs": [
    {
     "data": {
      "text/plain": [
       "'Xin chào Tôi tên là Nguyễn Văn A Ngày hôm nay của bạn thế nào'"
      ]
     },
     "execution_count": 27,
     "metadata": {},
     "output_type": "execute_result"
    }
   ],
   "source": [
    "sentence = \"Xin chào! Tôi tên là Nguyễn Văn A. Ngày hôm nay của bạn thế nào?\"\n",
    "remove_unnecessary_character(sentence)"
   ]
  },
  {
   "cell_type": "markdown",
   "id": "1cb93dbe",
   "metadata": {},
   "source": [
    "#### 6. Tổng hợp các bước trên"
   ]
  },
  {
   "cell_type": "code",
   "execution_count": 25,
   "id": "cc66e12d",
   "metadata": {},
   "outputs": [],
   "source": [
    "def text_preprocessing(document):\n",
    "    # Xoá html code\n",
    "    document = remove_html(document)\n",
    "    # Chuẩn hóa unicode\n",
    "    document = convert_unicode(document)\n",
    "    # Chuẩn hóa cách gõ dấu tiếng Việt và đưa về dạng viết thường\n",
    "    document = chuan_hoa_dau_cau_tieng_viet(document)\n",
    "    # Tách từ\n",
    "    document = word_tokenize(document, format=\"text\")\n",
    "    # Xóa các ký tự không cần thiết và khoảng trắng thừa\n",
    "    document = remove_unnecessary_character(document)\n",
    "    return document"
   ]
  },
  {
   "cell_type": "code",
   "execution_count": 30,
   "id": "4ad7ee38",
   "metadata": {
    "scrolled": true
   },
   "outputs": [
    {
     "name": "stdout",
     "output_type": "stream",
     "text": [
      "tp hcm phạt người không đeo khẩu_trang nơi công_cộng người dân ở thành_phố không đeo khẩu_trang nơi công_cộng sẽ bị xử_phạt mức cao nhất 300 000 đồng từ ngày 58 yêu_cầu này được chủ_tịch ubnd thành_phố nguyễn_thành phong đưa ra tại cuộc họp ban chỉ_đạo phòng_chống dịch_bệnh covid 19 của tp hcm chiều 38 việc xử_phạt không đeo khẩu_trang nơi công_cộng được tp hcm cũng như các địa_phương khác thực_hiện từ cuối tháng 3 khi covid 19 bùng_phát tuy_nhiên sau khi hết thực_hiện cách_ly xã_hội từ ngày 234 việc đeo khẩu_trang nơi công_cộng chỉ dừng lại ở mức khuyến_cáo theo nghị_định số 1762013 người_dân không đeo khẩu_trang nơi công_cộng sẽ bị xử_phạt từ 100 000 đến 300 000 đồng trong khoảng một tháng áp_dụng trước đó tp hcm đã xử_phạt hơn 4 300 trường_hợp với gần 870 triệu đồng theo ông phong việc đeo khẩu_trang đã được khẳng_định có_thể tránh lây_lan dịch_bệnh cho người khác và bảo_vệ sức_khỏe cho người sử_dụng sở công_thương phải nắm nguồn cung_ứng_khẩu_trang chủ_động thông_báo các điểm bán để người dân dễ_dàng mua vì đã xử_phạt thì phải bảo_đảm đủ nguồn cung ông phong nói đội trật_tự đô_thị phường bến_nghé quận 1 xử_phạt người không đeo khẩu_trang trên phố đi bộ nguyễn_huệ chiều 154 ảnh quỳnh trần đội trật_tự đô_thị phường bến_nghé quận 1 xử_phạt người không đeo khẩu_trang trên phố đi bộ nguyễn_huệ chiều 154 ảnh quỳnh trần bí_thư thành_ủy nguyễn_thiện_nhân cũng cho rằng việc đeo khẩu_trang là một trong những biện_pháp cơ_bản để tránh dịch_bệnh lây_lan việc này rất dễ làm không tốn nhiều tiền nhưng nhiều nước bỏ_lơi và đã bị vỡ trận ngoài đường hiện có ít_nhất 20 người không đeo khẩu_trang người không đeo không_những tự rước bệnh vào mình mà_còn nguy_cơ lây cho người khác đeo khẩu_trang hơi cực tí thôi nhưng đi đâu cũng nên đeo để giữ an_toàn ông nhân nói và khẳng_định thành_phố bảo_đảm không thiếu khẩu_trang cho người dân chủ_tịch ubnd thành_phố nguyễn_thành phong cũng cho biết đã đồng_ý việc tái_lập các chốt kiểm_soát ở cửa_ngõ tp hcm để phòng_chống covid 19 trước đó thành_phố đã lập 62 chốt kiểm_soát hoạt_động 2424 từ ngày 44 để phòng_chống dịch lực_lượng tham_gia là công_an thành_phố sở y_tế bộ_tư_lệnh thành_phố thanh_tra giao_thông ban quản_lý an_toàn thực_phẩm quản_lý thị_trường trong đó 16 chốt chính cấp thành_phố đặt tại trạm thu phí long phước cao_tốc tp hcm long thành dầu giây cao_tốc trung_lương cầu đôi đường trần_văn_giàu đường ba làng đường xuyên á quốc_lộ 22 cầu phú_cường cầu vĩnh_bình cầu_vượt sóng_thần quốc_lộ 1 k quốc_lộ 50 quốc_lộ 1 a cầu đồng nai bến_xe miền tây bến_xe miền đông sân_bay tân_sơn nhất cảng cát_lái đến ngày 234 chính_quyền thành_phố dừng hoạt_động các chốt này vì dịch_bệnh đã được khống_chế tp hcm dừng cách_ly xã_hội theo chỉ_thị 19 của thủ_tướng sau 19 ngày hoạt_động các chốt chính đã kiểm_tra gần 270 000 xe trong đó có 235 000 ôtô gần 600 000 người được kiểm_tra y_tế đo thân_nhiệt bao_gồm cả 3 000 người nước_ngoài hơn 130 000 người được yêu_cầu khai_báo y_tế\n"
     ]
    }
   ],
   "source": [
    "# Kiểm tra\n",
    "document = \"\"\"\n",
    "TP HCM phạt người không đeo khẩu trang nơi công cộng\n",
    "Người dân ở thành phố không đeo khẩu trang nơi công cộng sẽ bị xử phạt mức cao nhất 300.000 đồng, từ ngày 5/8.\n",
    "\n",
    "Yêu cầu này được Chủ tịch UBND thành phố Nguyễn Thành Phong đưa ra tại cuộc họp Ban chỉ đạo phòng chống dịch bệnh Covid-19 của TP HCM chiều 3/8.\n",
    "\n",
    "Việc xử phạt không đeo khẩu trang nơi công cộng được TP HCM cũng như các địa phương khác thực hiện từ cuối tháng 3 khi Covid-19 bùng phát. Tuy nhiên, sau khi hết thực hiện cách ly xã hội từ ngày 23/4, việc đeo khẩu trang nơi công cộng chỉ dừng lại ở mức khuyến cáo.\n",
    "\n",
    "Theo Nghị định số 176/2013, người dân không đeo khẩu trang nơi công cộng sẽ bị xử phạt từ 100.000 đến 300.000 đồng. Trong khoảng một tháng áp dụng trước đó, TP HCM đã xử phạt hơn 4.300 trường hợp với gần 870 triệu đồng.\n",
    "\n",
    "Theo ông Phong, việc đeo khẩu trang đã được khẳng định có thể tránh lây lan dịch bệnh cho người khác và bảo vệ sức khỏe cho người sử dụng. \"Sở Công thương phải nắm nguồn cung ứng khẩu trang, chủ động thông báo các điểm bán để người dân dễ dàng mua vì đã xử phạt thì phải bảo đảm đủ nguồn cung\", ông Phong nói.\n",
    "\n",
    "Đội trật tự đô thị phường Bến Nghé, quận 1, xử phạt người không đeo khẩu trang trên phố đi bộ Nguyễn Huệ, chiều 15/4. Ảnh: Quỳnh Trần.\n",
    "Đội trật tự đô thị phường Bến Nghé, quận 1, xử phạt người không đeo khẩu trang trên phố đi bộ Nguyễn Huệ, chiều 15/4. Ảnh: Quỳnh Trần.\n",
    "\n",
    "Bí thư Thành uỷ Nguyễn Thiện Nhân cũng cho rằng việc đeo khẩu trang là một trong những biện pháp cơ bản để tránh dịch bệnh lây lan. Việc này rất dễ làm, không tốn nhiều tiền nhưng nhiều nước bỏ lơi và đã bị \"vỡ trận\".\n",
    "\n",
    "\"Ngoài đường hiện có ít nhất 20% người không đeo khẩu trang. Người không đeo không những tự rước bệnh vào mình mà còn nguy cơ lây cho người khác. Đeo khẩu trang hơi cực tí thôi nhưng đi đâu cũng nên đeo để giữ an toàn\", ông Nhân nói và khẳng định thành phố bảo đảm không thiếu khẩu trang cho người dân.\n",
    "\n",
    "Chủ tịch UBND thành phố Nguyễn Thành Phong cũng cho biết đã đồng ý việc tái lập các chốt kiểm soát ở cửa ngõ TP HCM để phòng chống Covid-19.\n",
    "\n",
    "Trước đó, thành phố đã lập 62 chốt kiểm soát, hoạt động 24/24 từ ngày 4/4 để phòng chống dịch. Lực lượng tham gia là Công an thành phố, Sở Y tế, Bộ Tư lệnh thành phố, Thanh tra giao thông, Ban Quản lý An toàn thực phẩm, quản lý thị trường.\n",
    "\n",
    "Trong đó, 16 chốt chính (cấp thành phố) đặt tại: Trạm thu phí Long Phước (cao tốc TP HCM - Long Thành - Dầu Giây), cao tốc Trung Lương, cầu Đôi (đường Trần Văn Giàu), đường Ba Làng, đường Xuyên Á (quốc lộ 22), cầu Phú Cường, cầu Vĩnh Bình, cầu vượt Sóng Thần, quốc lộ 1K, quốc lộ 50, quốc lộ 1A, cầu Đồng Nai, Bến xe Miền Tây, Bến xe miền Đông, sân bay Tân Sơn Nhất, cảng Cát Lái.\n",
    "\n",
    "Đến ngày 23/4, chính quyền thành phố dừng hoạt động các chốt này vì dịch bệnh đã được khống chế, TP HCM dừng cách ly xã hội theo Chỉ thị 19 của Thủ tướng.\n",
    "\n",
    "Sau 19 ngày hoạt động, các chốt chính đã kiểm tra gần 270.000 xe, trong đó có 235.000 ôtô; gần 600.000 người được kiểm tra y tế, đo thân nhiệt, bao gồm cả 3.000 người nước ngoài; hơn 130.000 người được yêu cầu khai báo y tế.\n",
    "\"\"\"\n",
    "document = text_preprocessing(document)\n",
    "print(document)"
   ]
  },
  {
   "cell_type": "code",
   "execution_count": 26,
   "id": "0e5bd069",
   "metadata": {},
   "outputs": [
    {
     "name": "stdout",
     "output_type": "stream",
     "text": [
      "Xử lý dữ liệu trên tập train...\n"
     ]
    },
    {
     "data": {
      "application/vnd.jupyter.widget-view+json": {
       "model_id": "812b4fd177d34e8da0bf38b21f318612",
       "version_major": 2,
       "version_minor": 0
      },
      "text/plain": [
       "  0%|          | 0/14375 [00:00<?, ?it/s]"
      ]
     },
     "metadata": {},
     "output_type": "display_data"
    },
    {
     "name": "stdout",
     "output_type": "stream",
     "text": [
      "Xử lý dữ liệu trên tập test...\n"
     ]
    },
    {
     "data": {
      "application/vnd.jupyter.widget-view+json": {
       "model_id": "d1562bf1781743fd884026f1c712dd0a",
       "version_major": 2,
       "version_minor": 0
      },
      "text/plain": [
       "  0%|          | 0/12076 [00:00<?, ?it/s]"
      ]
     },
     "metadata": {},
     "output_type": "display_data"
    }
   ],
   "source": [
    "# Thực hiện xử lý trên toàn bộ dữ liệu\n",
    "print('Xử lý dữ liệu trên tập train...')\n",
    "for i, news in enumerate(tqdm(train_x)):\n",
    "  train_x[i] = text_preprocessing(news)\n",
    "\n",
    "print('Xử lý dữ liệu trên tập test...')\n",
    "for i, news in enumerate(tqdm(test_x)):\n",
    "  test_x[i] = text_preprocessing(news)"
   ]
  },
  {
   "cell_type": "code",
   "execution_count": 32,
   "id": "2acc9d5a",
   "metadata": {},
   "outputs": [
    {
     "data": {
      "text/plain": [
       "'giống như keiko matsui blackmore s night được hầu_hết báo_chí ở việt nam nhắc đến cách đây vài năm với scandal đạo nhạc renaissance faire tuổi 16 nhưng đối_với người_yêu nhạc chịu_khó chút_xíu không cần đến scandal đó mới biết cái tên blackmore s night danh_tiếng của richie blackmore từ khi chơi trong deep purple lẫn rainbow đủ để người_ta phải dừng bước trước kệ có đặt đĩa của blackmore s night cái tên blackmore s night khéo_léo kết_hợp 2 thành_viên chủ_chốt của nhóm tay guitar cự_phách richie blackmore và cô người_yêu candice night âm_nhạc của nhóm từng được chính richie mô_tả là mike oldfield gặp_gỡ với enya đến nay blackmore s night đã có 5 album studio chính_thức và người nghe cũng xác_định được nhóm khác_xa với deep purple hay rainbow deep purple góp_phần định_hình nên nhạc rock của thập_niên 70 nền_tảng vững_chắc cho metal sau_này thì blackmore s night lại quay lại thời phục_hưng với những nhạc_cụ thời trung_cổ với đoàn hát_rong ngày 442006 village lanterne album thứ 6 của blackmore s night được tung ra đây là album có âm_thanh hiện_đại nhất trong tất_cả các đĩa nhạc của blackmore s night đã từng phát_hành vẫn giọng_hát trong_trẻo của candice nhưng tiếng guitar trong just call my name chắc_chắn không phải thời phục_hưng mà giống như bài rockin chair của nhóm magnum năm 90 tương_tự là st teresa mở_đầu chậm_rãi êm_dịu như một bản hòa_tấu đầy suy_tư nhưng rồi nhanh_chóng bừng sáng giống như một thanh gươm chỉ quý với người biết dùng guitar điện đã được đặt trở_lại vào tay vị anh_hùng thiện_chiến richie và anh lại tiếp_tục dọc_ngang ngút_ngàn với thanh_âm từng dẫn_dắt cả đạo_quân hiểu theo nghĩa_bóng lẫn nghĩa_đen người_yêu rock street of dreams bài hát trích từ album bent out of shape năm 1983 của rainbow đã được chơi lại với guitar điện nhưng child in time lẫy_lừng của deep purple lần này được lồng_ghép với bài mond tanz nếu đã nghe bản_gốc của street of dreams và nhất_là child in time có_thể đoan_chắc rằng ít ai chơi lại hay bằng rainbow và deep purple giọng hát của ian gillan trong những quãng cao những đoạn ngân_nga lanh_lảnh của bài child in time khiến bất_cứ ai có ý_định hát lại bài này đều phải vượt qua bức tường thành_thật cao ngày 1842006 vừa_qua ian cũng tung ra album gillan s inn rất đáng nghe trong đó hát lại smoke on the water when a blind man cries với giọng hát không suy_suyển mấy với thời_gian trở_lại với blackmore s night khi thể_hiện lại các ca_khúc này với giọng nữ hẳn richie có ý_định thử_nghiệm hơn là tìm cách chinh_phục bằng_chứng là child in time đã được gói_ghém gọn_ghẽ trong điệu vũ ánh trăng bài mond tanz mở_đầu và kết_thúc track 9 với child in time lọt_thỏm ở giữa dĩ_nhiên tiếng đàn_thùng trong vắt vẫn là âm_thanh chủ_đạo trong village dance the messenger và khéo_léo nâng_đỡ giọng hát chính trong nhiều ca_khúc khác faerie queen nhẹ_nhõm với những tiếng miết dây đàn guitar giọng_hát của candice như quyện vào tiếng đàn đột_nhiên khi bài hát đi được 23 độ_dài mọi thứ rộn_rã và nhộn_nhịp hẳn đoàn người quây_quần quanh đống lửa nắm tay kết thành vòng_tròn tưng_bừng nhảy_múa sau 8 ô nhịp lại giơ cao_tay đồng_loạt hô vang world of stone có kiểu ngân_nga của dàn đồng_ca các thầy_tu như trong các đĩa gregorian street of london bất_hủ của ralph mctell được candice hát lại không_thể ấm_áp bằng nhưng vẫn là một bản_nhạc đáng nghe giọng hát của candice xuất_sắc và phù_hợp nhất ở windmills và once in a garden ở ca_khúc sau một lần nữa lại được nghe tiếng chim ríu_rít và nước róc_rách trong âm_nhạc như đã giới_thiệu cách đây 2 tuần với bài gentle forest của kitaro đĩa nhạc này có_thể dễ_dàng xếp vào kệ đĩa của khu_vực progressive rock khi nhớ lại rằng progressive rock đầu thập_niên 70 pha_trộn rất nhiều chất nhạc folk chỉ riêng ca_khúc i guess it doesn t matter cũng đủ chứng_minh_điều này ấn_bản phát_hành tại nhật của album village lanterne có thêm một phần trình_bày khác của street of dreams lần này ngoài giọng của candice còn có joe lynn turner ca_sĩ của cả deep purple và rainbow trước đây'"
      ]
     },
     "execution_count": 32,
     "metadata": {},
     "output_type": "execute_result"
    }
   ],
   "source": [
    "# Kiểm tra\n",
    "train_x[1]"
   ]
  },
  {
   "cell_type": "markdown",
   "id": "290dcc85",
   "metadata": {},
   "source": [
    "#### 7. Loại bỏ stop word tiếng Việt"
   ]
  },
  {
   "cell_type": "markdown",
   "id": "3fa8d210",
   "metadata": {},
   "source": [
    "- Stopword là các từ xuất hiện nhiều ở tất cả các chuyên mục cần phân loại. Do đó, chúng là các đặc trưng không có tác dụng cho việc phân loại văn bản.\n",
    "- Các stopword thường là các từ nối (của, là, có, được, những,…) và các từ đặc trưng của dữ liệu (ví dụ như các từ “máy bay, tiếp viên” là các stopword nếu làm bài phân loại đánh giá khách hàng của doanh nghiệp vận tải hàng không)."
   ]
  },
  {
   "cell_type": "code",
   "execution_count": 33,
   "id": "bd45baed",
   "metadata": {},
   "outputs": [
    {
     "name": "stdout",
     "output_type": "stream",
     "text": [
      "Processing news ...\n",
      "Number of words in dataset:  104810\n"
     ]
    }
   ],
   "source": [
    "# Thống kê các từ và số lượng tương ứng\n",
    "count = {}\n",
    "print('Processing news ...')\n",
    "for content in (train_x + test_x):\n",
    "  words = content.split(' ')\n",
    "  for word in words:\n",
    "    if word not in count:\n",
    "      count[word] = 1\n",
    "    else:\n",
    "      count[word] += 1\n",
    "\n",
    "print('Number of words in dataset: ', len(count))"
   ]
  },
  {
   "cell_type": "code",
   "execution_count": 34,
   "id": "0b6c34e1",
   "metadata": {
    "scrolled": true
   },
   "outputs": [
    {
     "name": "stdout",
     "output_type": "stream",
     "text": [
      "của - 168186\n",
      "và - 165870\n",
      "là - 124178\n",
      "có - 119364\n",
      "các - 109433\n",
      "trong - 108983\n",
      "một - 101145\n",
      "được - 100726\n",
      "cho - 95665\n",
      "với - 93702\n",
      "không - 92446\n",
      "những - 88805\n",
      "đã - 84438\n",
      "người - 75284\n",
      "khi - 62877\n",
      "ở - 62754\n",
      "để - 60376\n",
      "này - 60125\n",
      "sẽ - 59242\n",
      "tôi - 56265\n",
      "cũng - 53960\n",
      "vào - 50447\n",
      "đến - 48522\n",
      "phải - 45238\n",
      "nhiều - 45126\n",
      "đó - 44467\n",
      "về - 44463\n",
      "như - 43512\n",
      "từ - 42773\n",
      "nhưng - 42522\n",
      "anh - 40735\n",
      "năm - 40024\n",
      "trên - 39840\n",
      "ra - 39319\n",
      "tại - 37665\n",
      "sau - 37503\n",
      "làm - 36195\n",
      "lại - 35948\n",
      "còn - 35051\n",
      "hơn - 33227\n",
      "1 - 33218\n",
      "chỉ - 32764\n",
      "2 - 32721\n",
      "bạn - 32283\n",
      "mình - 30450\n",
      "rất - 30234\n",
      "có_thể - 29331\n",
      "theo - 28061\n",
      "trước - 28031\n",
      "thì - 28001\n",
      "hai - 27365\n",
      "sự - 26979\n",
      "3 - 26772\n",
      "mới - 26479\n",
      "mà - 25648\n",
      "bị - 25017\n",
      "đi - 24847\n",
      "ngày - 24710\n",
      "nhất - 24691\n",
      "đang - 24055\n",
      "nam - 23746\n",
      "nhà - 23702\n",
      "họ - 23302\n",
      "ông - 23184\n",
      "biết - 22547\n",
      "lên - 21869\n",
      "việc - 21427\n",
      "trận - 21061\n",
      "đây - 20917\n",
      "vẫn - 20454\n",
      "việt - 19541\n",
      "đội - 19488\n",
      "khác - 19257\n",
      "tới - 18975\n",
      "nước - 18815\n",
      "vì - 18679\n",
      "nên - 18569\n",
      "qua - 18503\n",
      "nếu - 18268\n",
      "cả - 17847\n",
      "bằng - 17782\n",
      "4 - 17647\n",
      "5 - 17166\n",
      "nói - 17059\n",
      "phim - 16842\n",
      "trường - 16694\n",
      "hay - 16673\n",
      "lần - 16530\n",
      "bóng - 15888\n",
      "thứ - 15797\n",
      "bộ - 15442\n",
      "rằng - 15406\n",
      "6 - 15268\n",
      "tháng - 15238\n",
      "cô - 15175\n",
      "chưa - 15024\n",
      "điểm - 14892\n",
      "cao - 14696\n",
      "gì - 14577\n",
      "cùng - 14395\n"
     ]
    }
   ],
   "source": [
    "# Liệt kê 100 từ xuất hiện nhiều nhất\n",
    "sorted_count = sorted(count, key=count.get, reverse=True)\n",
    "for word in np.array(sorted_count)[:100]:\n",
    "  print(f'{word} - {count[word]}')"
   ]
  },
  {
   "cell_type": "code",
   "execution_count": 35,
   "id": "c61bcbd1",
   "metadata": {},
   "outputs": [],
   "source": [
    "# Thêm 100 từ nhiều nhất vào danh sách stopword\n",
    "stopwords = set()\n",
    "for word in sorted_count[:100]:\n",
    "    stopwords.add(word)\n",
    "\n",
    "# Lưu danh sách stopwords\n",
    "stopwords_path = 'Data/saved/stopwords.sav'\n",
    "pickle.dump(stopwords, open(stopwords_path, 'wb'))"
   ]
  },
  {
   "cell_type": "markdown",
   "id": "f214d53a",
   "metadata": {},
   "source": [
    "#### Loại bỏ stopword khỏi tập train và test"
   ]
  },
  {
   "cell_type": "code",
   "execution_count": 36,
   "id": "9436a60f",
   "metadata": {},
   "outputs": [
    {
     "data": {
      "text/plain": [
       "'nghị_định ban_hành dân cần hết 169'"
      ]
     },
     "execution_count": 36,
     "metadata": {},
     "output_type": "execute_result"
    }
   ],
   "source": [
    "# Loại bỏ stopword\n",
    "def remove_stopwords(document):\n",
    "    words = document.split(' ')\n",
    "    res = list()\n",
    "    for word in words:\n",
    "        if word not in stopwords:\n",
    "            res.append(word)\n",
    "    return ' '.join(res)\n",
    "\n",
    "# Kiểm tra\n",
    "remove_stopwords(text_preprocessing('Theo nghị định đã ban hành, người dân cần ở trong nhà đến hết ngày 16/9.'))"
   ]
  },
  {
   "cell_type": "code",
   "execution_count": 37,
   "id": "73ad63cd",
   "metadata": {},
   "outputs": [
    {
     "name": "stdout",
     "output_type": "stream",
     "text": [
      "Loại bỏ stopwords trên tập train...\n"
     ]
    },
    {
     "data": {
      "application/vnd.jupyter.widget-view+json": {
       "model_id": "5bc339731471414f948916e6544e897e",
       "version_major": 2,
       "version_minor": 0
      },
      "text/plain": [
       "  0%|          | 0/14375 [00:00<?, ?it/s]"
      ]
     },
     "metadata": {},
     "output_type": "display_data"
    },
    {
     "name": "stdout",
     "output_type": "stream",
     "text": [
      "Loại bỏ stopwords trên tập test...\n"
     ]
    },
    {
     "data": {
      "application/vnd.jupyter.widget-view+json": {
       "model_id": "7e915c089d104e7f8854cb9fc13ccb25",
       "version_major": 2,
       "version_minor": 0
      },
      "text/plain": [
       "  0%|          | 0/12076 [00:00<?, ?it/s]"
      ]
     },
     "metadata": {},
     "output_type": "display_data"
    }
   ],
   "source": [
    "# Thực hiện trên toàn bộ dữ liệu\n",
    "print('Loại bỏ stopwords trên tập train...')\n",
    "for i, news in enumerate(tqdm(train_x)):\n",
    "  train_x[i] = remove_stopwords(news)\n",
    "\n",
    "print('Loại bỏ stopwords trên tập test...')\n",
    "for i, news in enumerate(tqdm(test_x)):\n",
    "  test_x[i] = remove_stopwords(news)"
   ]
  },
  {
   "cell_type": "code",
   "execution_count": 38,
   "id": "a9f45fbf",
   "metadata": {
    "scrolled": true
   },
   "outputs": [
    {
     "name": "stdout",
     "output_type": "stream",
     "text": [
      "Cate: Chung khoan\n",
      "Content: ssc tăng_giá phiên giao_dịch đầu_tiên công_ty cổ_phần giống cây_trồng miền sáng nay dấu_hiệu khá lạc_quan giá khớp lệnh đạt 30 800 đồngcổ phiếu tăng 8 so giá khởi_điểm tuy_nhiên khối_lượng giao_dịch khiêm_tốn 27 280 cổ_phiếu nhà_đầu_tư giá khớp lệnh vậy chứng_tỏ ssc khá hấp_dẫn tạo thêm sức_sống thị_trường phiên giao_dịch sáng nay vn index tiếp_tục tăng 0 235 81 tổng giá_trị toàn_thị_trường đạt tỷ đồng ngoài ssc cổ_phiếu vtc tms ts4 sfc tăng_giá thêm 300 đồng mỗi cổ_phiếu btc thu_hút chú_ý nhà_đầu_tư song chiều_hướng ngược_lại mức giảm_giá khá 400 đồng thông_tin gây thất_vọng giới đầu_tư công_ty dự_tính lỗ tỷ đồng 2004 tính 2003 doanh_nghiệp lỗ tỷ đồng\n",
      "Cate: Bong da\n",
      "Content: hà lan đối_đầu thử_thách italy chạm_mặt cừu_địch một_nửa tấm vé đức quyết_định hà lan đón_tiếp romania đêm nay vòng loại world cup khu_vực châu_âu italy cảnh thiếu trụ_cột quan_trọng hành_quân phương bắc gặp đối_thủ kỵ giơ nauy tuần giải vô_địch quốc_gia lớn kết_thúc sân_cỏ châu_âu nóng vòng loại world cup 2006 tính_chất quan_trọng bảng đáng chú_ý cuộc chạm_trán giữa chủ hà lan đối_thủ đẳng_cấp romania rõ_ràng vô_cùng then_chốt hà lan thắng cắt bớt đối_thủ cuộc đua thua khả_năng czech cướp mất ngôi đầu_bảng mục_tiêu độc_nhất đầu cầu_thủ romania bởi hòa thua mọi hy_vọng nhỏ_nhoi cuối_cùng tan biến khách romania kém đầu_bảng đồng_thời đá chuẩn_bị cầu đinh thày trò hlv van basten tập_trung chuẩn_bị sớm vẻ coi_thường địch_thủ lộ dù hà lan từng thắng romania 0 ngay sân_khách lượt hồi van basten tỏ_vẻ cẩn_trọng romania mạnh trở_lại mutu địch_thủ khó_chịu bài phản_công nguy_hiểm lượt chẳng_qua do chúng_tôi sớm dẫn buộc chơi thế_trận bất_lợi lịch thi_đấu vòng loại world cup 2006 bảng xếp_hạng khu_vực châu_âu châu_á mỹ tuy_nhiên giới chuyên_môn đánh_giá đội_tuyển hà lan hẳn kể đầu vòng_loại cơn lốc màu_da_cam bất_khả chiến_bại thắng hòa giành ngôi đầu một_cách thuyết_phục cơ_hội chiến_thắng đêm nay hà lan càng robben cầu_thủ nổi van persie trở_lại sát_cánh tiền_đạo van nistelrooy vấn_đề duy_nhất hlv van basten thiếu_vắng cặp trung_vệ chủ_chốt jan kromkamp joris mathijsen do chấn_thương dài_hạn romania tận_dụng yếu khai_thác một_cách triệt_để coi cửa dưới khách đoàn quân hlv victor piturca hy_vọng trở_lại adrian mutu 7 treo_giò liệu lấy phong_độ câu_hỏi lớn romania cần bài đặc_biệt đối_phó chủ dựa sức_mạnh tinh_thần kẻ dồn đường_cùng giống phong_cách hậu_vệ_đội_trưởng cristian chivu thế sống_chết vừa đặt_chân xứ_sở hoa tuylip romania lựa_chọn nào ngoài đánh_bại hà lan hòa đồng_nghĩa cánh cửa đức đóng hoàn_toàn đối_với chúng_tôi đội_hình xuất_phát dự_kiến hà lan thủ_môn van der sar hậu_vệ lucius boulahrouz opdam van bronckhorst tiền_vệ van_bommel landzaat van der vaart tiền_đạo kuijt van nistelrooy robben hoặc van persie romania thủ_môn lobont hậu_vệ contra ghionea chivu stoica tiền_vệ petre pancu munteanu mitea tiền_đạo mutu niculescu lượt đấu cuối tuần chứng_kiến đấu kém phần hấp_dẫn italy hành_quân phương bắc gặp nauy lạnh_lẽo nỗi ám_ảnh vùng địa_trung_hải bởi nắng hè tràn_ngập ký_ức khó_chịu mỗi gặp nauy bóng_đá latinh chặt_chẽ italy gặp khó_khăn muốn chiến_thắng ký_ức thất_bại ac milan vừa_qua_lại trở_về một_số cầu_thủ clb áo đỏ_đen đối_mặt tiền_vệ john arne riise liverpool trọng_tài cái tên đáng nhớ mejuto gonzalez nauy mạnh mức nào quả khó đo_lường đặc_biệt nguy_hiểm kể hlv aage hareide nắm quyền 2003 nauy đá 20 thua duy_nhất chính thua italy lượt tỷ_số john carew mở tỷ_số ngay phút rồi chủ vất_vả rượt đuổi lật_ngược bàn do công de rossi luca toni 80 rõ_ràng khó_khăn quân hlv lippi đêm nay điều báo bởi tỷ_lệ cá_cược nhà_cái william hill nauy đánh_giá ngang cơ hoàn_toàn khả_năng tạo kết_quả bất_ngờ nguy_cơ mất italy càng thấy rõ trụ_cột quan_trọng đội_hình totti gilardino nesta vắng_mặt lý_do nhau chủ tập_hợp khá đầy_đủ cầu_thủ ưng_ý hlv hareide nở nụ cười hài_lòng hareide cặp trung_vệ thế_giới nesta cannavaro một_nửa italy sứt_mẻ phần tốt italy luôn mạnh tình_thế khó_khăn chẳng nguyên_nhân khiến lão đầu_bạc marcello lippi tỏ tự_tin kỳ_lạ nauy đối_thủ mạnh chúng_tôi cố_gắng thua kiếm trọn hàng phòng_ngự bịt kín mọi lỗ_hổng tuyến kiểm_soát đấu đội_hình xuất_phát dự_kiến nauy thủ_môn myre hậu_vệ bergdolmo hagen lundekvam riise tiền_vệ andresen haestad solli iversen pedersen tiền_đạo carew italy thủ_môn buffon hậu_vệ bonera cannavaro materazzi grosso tiền_vệ camoranesi pirlo de rossi zambrotta tiền_đạo vieri cassano hoặc luca toni đêm nay bảng nóng cuộc chạm_trán đứng đầu 14 bồ_đào nha slovakia thực_sự chung_kết bởi nào thắng lợi_thế lớn giành vé thẳng đức dân đất_nước nín thở hồi_hộp chờ_đợi bởi căng_thẳng tính_chất quá quan_trọng cuộc gặp_gỡ then_chốt lượt cách slovakia xuất_sắc cầm chân bồ_đào nha đánh_giá sân_nhà tỷ_số lượt_về mọi hy_vọng đông_âu đặt vai marek mintal tiền_vệ vừa đoạt danh_hiệu vua phá lưới bundesliga 24 bàn thắng hlv scolari chủ đêm nay tỏ thận_trọng slovakia sức_mạnh khó lường nguy_hiểm sân khách chúng_tôi cảnh_báo mọi đạt mục_tiêu đáng chú_ý bên phía bồ_đào nha trở_lại luis figo giới hâm_mộ kỳ_vọng thời_gian giam_hãm real bùng_nổ tái khẳng_định tuyển quốc_gia tuy_vậy á_quân euro 2004 thiếu ba hậu_vệ xuất_sắc ricardo carvalho paulo ferreira miguel đều do chấn_thương tiền_vệ phòng_ngự costinha vắng_mặt bởi án treo giò vì_thế chiến_thắng bộ_ba figo deco ronaldo hoạt_động gấp đôi bình_thường đội_hình xuất_phát dự_kiến bồ_đào nha thủ_môn pereira hậu_vệ alex andrade meira caneira tiền_vệ petit maniche deco luis figo cristiano ronaldo tiền_đạo pauleta slovakia thủ_môn contofalsky hậu_vệ varga petras zabavnik had tiền_vệ hanek hlinka karhan mintal nemeth tiền_đạo reiter đấu đáng quan_tâm kém dịp cuối tuần chính chuyến khách đầy ưu_tư hy lạp đất dữ thổ nhĩ kỳ dù bên kia sườn dốc hào_quang 2002 chủ đánh_giá cản đường tiến đkvđ châu_âu bất_lợi lớn hy lạp thủ_quân zagorakis hậu_vệ trụ_cột dellas do án treo giò chấn_thương thổ nhĩ kỳ thiếu tiền_đạo số_một nihat kahveci cần hòa thôi coi dâng vé sớm ukraina đội_hình xuất_phát dự_kiến thổ nhĩ kỳ thủ_môn recber hậu_vệ balci seyhan yavuz ozat tiền_vệ basturk belozoglu cimsir altintop tiền_đạo ates tekke hy lạp hậu_vệ nikopolidis hậu_vệ vyntra seitaridis kyrgiakos kapsis tiền_vệ basinas giannakopoulos karagounis katsouranis tiền_đạo haristeas vryzas\n",
      "Cate: Tennis\n",
      "Content: báo_chí thể_thao thế_giới viết quần_vợt nam_nhân giải quần_vợt atp đầu_tiên tổ_chức tp hcm phóng_viên nước_ngoài có_mặt đưa tin sự_kiện dưới một_số bài viết phát_triển quần_vợt ta quan_sát ap reuters quần_vợt có_mặt cuối thế_kỷ do công pháp môn thể_thao thực_sự phát_triển kể chính pháp cư_dân địa_phương nhau hợp_tác phát_triển thế môn thể_thao hầu_như hoạt_động miền bắc kể chiến_thắng điện biên phủ 1954 phát_triển ngày_càng mạnh miền lý_do tại_sao giờ_đây chơi quần_vợt chuyên_nghiệp chủ_yếu tập_trung miền đất_nước thống_nhất 1975 hầu_như chơi quần_vợt gần quần_vợt trở_nên phổ_biến bài báo phóng_viên ap viết nền kinh_tế tăng_trưởng ngày_càng nhanh thu_nhập dân tăng đáng_kể đặc_biệt tầng_lớp trung_lưu hâm_mộ thể_thao bình_thường mua chiếc vợt thi_đấu khoảng thời_gian rảnh_rỗi trở_nên phổ_biến quần_vợt nghiệp_dư phát_triển mạnh_mẽ đất_nước thi_đấu thông_thường mọi sắm vợt giày quần_áo phụ_kiện tốn chừng hàng trăm usd ngoài_ra thuê sân chừng usd giờ chơi trung_bình buổi mỗi tuần giờ làm_việc hoặc học_tập hoặc 7 vừa_qua khoảng 000 000 sân_quần_vợt xây_dựng số chơi khoảng 100 000 trải khắp đất_nước giải atp đầu_tiên tổ_chức thực_sự cú huých mạnh phát_triển môn thể_thao thời coi quý_tộc vé cửa theo_dõi giải đấu giá khoảng 75 usd 142 usd so phát_triển thế_giới chính khoản tiền hề nhỏ so thu_nhập trung_bình lao_động dù vậy chuyển giải đấu trung_quốc sang thực_sự quyết_định đúng_đắn _trưởng btc giải amit naor trả_lời phỏng_vấn báo_chí giải đấu chắc_chắn động_lực thúc_đẩy phát_triển tay_vợt nói_riêng quần_vợt nói_chung chứng_tỏ khả_năng tổ_chức thành_công giải đấu quốc_tế lớn không_chỉ quần_vợt mà_còn môn thể_thao chính lý_do tại_sao chúng_tôi chọn\n",
      "Cate: Tennis\n",
      "Content: xác_định cặp đấu bán_kết lavie cup 2005 hôm_nay tứ_kết nội_dung đơn_nam đơn_nữ giải vô_địch quần_vợt quốc_gia kết_thúc xác_định tay_vợt mạnh giành quyền bán_kết ba nội_dung đôi chặng cuối đỗ minh_quân thi_đấu thành_công ảnh tuấn nằm ngoài dự_đoán tất_cả tay_vợt đánh_giá triển_vọng khai_mạc đều tên bán_kết nội_dung đơn_nam ba số bốn tay_vợt giành chiến_thắng hôm_nay thành_viên dự_tuyển quốc_gia chuẩn_bị sea games 23 gồm lê quốc_khánh đỗ minh_quân ngô quang_huy chính gương_mặt giải nay tay_vợt việt_kiều 29 tuổi định_cư mỹ lê_minh bốn đấu tứ_kết hôm_nay đều kết_thúc set ngoại_trừ cuộc rượt đuổi khá gay_cấn đường đẹp_mắt xứng_đáng nhận tràng pháo tay tán_thưởng khán_giả đầu_tiên giữa quốc_khánh hùng_dũng đều thể_hiện chênh_lệch nội_dung đơn_nữ bất_ngờ bốn cái tên quen_thuộc nguyễn_thùy_dung ngô hà huỳnh mai huỳnh trần kim lợi đều giành quyền bán_kết một_cách khá dễ_dàng tương_tự nội_dung đơn_nam ba số bốn tay_vợt hiện thành_viên dự_tuyển quốc_gia tập_huấn thềm sea_games ngoại_trừ ngô hà tuy_nhiên một_số chuyên_gia hlv đội_tuyển quần_vợt hà khả_năng triệu_tập bổ_sung cup lavie vậy bán_kết diễn ngày_mai đỗ minh_quân gặp lê quốc_khánh lê_minh gặp ngô quang_huy nội_dung đơn_nam nội_dung đơn_nữ huỳnh mai huỳnh gặp nguyễn_thùy_dung trần kim lợi gặp ngô hà nội_dung đôi hầu_hết gương_mặt bán_kết xác_định kết_quả chi_tiết thi_đấu 1310 đơn_nữ nguyễn_thùy_dung hà_nội thắng phạm thị đào kiên giang 0 0 huỳnh mai huỳnh tp hcm thắng lương gia phụng hà_nội ngô hà hà_nội thắng nguyễn_thùy đan tp hcm 0 trần kim lợi khánh hòa thắng nguyễn như_khuê hà_nội 0 đơn lê quốc_khánh quân_đội thắng tạ hồng dũng hà_nội đỗ minh_quân tp hcm thắng trần hùng_dũng strata 0 lê_minh cà_mau tăng đức trí tp hcm 0 ngô quang_huy tp hcm nguyễn_thanh_gấm kiên giang đôi_nam_nữ chí khương thảo_nguyên quân_đội thắng công_thành phương hạnh khánh hòa 0 tuấn như_quỳnh quân_đội thắng thanh gấm phạm thị đào kiên giang 0 quang trí thùy đan tp hcm thắng quốc_bảo thùy linh tp hcm 7 đôi_nữ như_quỳnh thảo_nguyên quân_đội thắng gia phụng minh khuê hà_nội 0 hà thùy dung hà_nội thắng phượng uyên khổng thị hân khánh hòa đôi minh_quân ngọc đức tp hcm thắng nguyên vũ thành_long quân_đội 7 7 quốc bảo quốc_khánh quân_đội thắng xuân_minh phú_quý cà_mau 7 quang_huy đức dương tp hcm thắng tuấn chí khương 7 đức chí đức doanh tp hcm thắng hùng_dũng chí nguyên\n",
      "Cate: Du lich\n",
      "Content: liệu virus sfv lành trở_nên độc hiv ngôi đền khỉ hòn đảo du_lịch bali nổi_tiếng thu_hút du_khách chụp ảnh hiếu kỳ khỉ ăn mấy ai đe_dọa bởi loại virus tên svf vốn bí_ẩn đối_với khoa_học virus simian foamy svf bình_thường vô_hại song nhà_khoa_học mới_đây e_ngại tiềm_năng gây bệnh nó giống virus hiv vốn hiền_lành khả_năng vượt_rào_cản giữa loài tấn_công con_người hàng thập_kỷ tiến_hóa hiện_nay virus sfv dấu_hiệu nhảy linh_trưởng sang châu_á nghiên_cứu đại_học washington mỹ thực_hiện ngôi đền khỉ nổi_tiếng sangeh bali tiến_sĩ lisa jones engel cộng_sự kiểm_tra 82 làm_việc hoặc gần đền phát_hiện nông_dân nhiễm virus sfv khỉ macaque cào cắn ca bệnh đầu_tiên châu_á bản_thân sfv gây biến_chứng ngay_lập_tức kích_thích cơ_thể tạo môi_trường cơ_chế lây_nhiễm jones engel sfv thường tìm thấy động_vật linh_trưởng 89 số khỉ kiểm_tra ngôi đền sangeh đều nhiễm virus song biểu_hiện bệnh hiện_nay ít nghiên_cứu mức_độ lây_lan sfv cộng_đồng tác_hại lâu_dài nó khoảng 40 nhiễm sfv gồm thợ_săn châu_phi nhân_viên sở_thú phòng_thí_nghiệm bắc mỹ tiến_sĩ jones engel số nhiễm virus sfv châu_á thế vùng_đất con_người khỉ gần_gũi nhau riêng bali khoảng 700 000 khách du_lịch ngôi đền khỉ mỗi 35 000 khỉ cắn hiện khoảng 45 ngôi đền khỉ rải_rác khắp bali thờ phật đạo_hindu trở_thành đảo khỉ châu_á tuy_nhiên nhóm tác_giả từng khỉ cào hoặc cắn quá lo_lắng nhất_là cách nào kiểm_tra dễ_dàng virus nhà_khoa_học nỗ_lực tìm_hiểu phản_ứng sfv va_chạm hiv bệnh lao phổi hoặc căn_bệnh nay người_ta ảnh_hưởng sfv cơ_thể mặc_dù sfv hoàn_toàn chủng virus động_vật linh_trưởng hiv mặt di_truyền song ai dám chắc nó thay_đổi trở_nên nguy_hiểm giống virus hiv vốn khả_năng vượt ranh_giới loài khỉ thập_kỷ nó bắt_đầu thực_sự trở_thành nỗi kinh_hoàng loài_người 1980 du_khách tham_quan đền khỉ song tránh tiếp_xúc gần khỉ ăn đặc_biệt bao_giờ đứng giữa khỉ mẹ khỉ con\n"
     ]
    }
   ],
   "source": [
    "# Kiểm tra\n",
    "for i in random.sample(range(0, len(train_x)), 5):\n",
    "    print('Cate:', train_y[i])\n",
    "    print('Content:', train_x[i])"
   ]
  },
  {
   "cell_type": "markdown",
   "id": "6377da59",
   "metadata": {},
   "source": [
    "#### Lưu lại dữ liệu đã hoàn tất tiền xử lý"
   ]
  },
  {
   "cell_type": "code",
   "execution_count": 39,
   "id": "0ccf1976",
   "metadata": {},
   "outputs": [],
   "source": [
    "train_x_path = 'Data/saved/train_x.sav'\n",
    "train_y_path = 'Data/saved/train_y.sav'\n",
    "test_x_path = 'Data/saved/test_x.sav'\n",
    "test_y_path = 'Data/saved/test_y.sav'\n",
    "\n",
    "pickle.dump(train_x, open(train_x_path, 'wb'))\n",
    "pickle.dump(train_y, open(train_y_path, 'wb'))\n",
    "pickle.dump(test_x, open(test_x_path, 'wb'))\n",
    "pickle.dump(test_y, open(test_y_path, 'wb'))"
   ]
  },
  {
   "cell_type": "markdown",
   "id": "18de8440",
   "metadata": {},
   "source": [
    "**Kết luận:** Như vậy là đã hoàn thành quá trình tiền xử lý dữ liệu. Tiếp theo sẽ là phần phân loại các tin tức đã được xử lý."
   ]
  },
  {
   "cell_type": "code",
   "execution_count": null,
   "id": "cb0f6944",
   "metadata": {},
   "outputs": [],
   "source": []
  }
 ],
 "metadata": {
  "kernelspec": {
   "display_name": "Python 3.10.4 ('venv': venv)",
   "language": "python",
   "name": "python3"
  },
  "language_info": {
   "codemirror_mode": {
    "name": "ipython",
    "version": 3
   },
   "file_extension": ".py",
   "mimetype": "text/x-python",
   "name": "python",
   "nbconvert_exporter": "python",
   "pygments_lexer": "ipython3",
   "version": "3.10.4"
  },
  "vscode": {
   "interpreter": {
    "hash": "9a1182db4f03b16d95cdbf16f79ee23bd77e3a152531435d78ce69572e42c2bd"
   }
  }
 },
 "nbformat": 4,
 "nbformat_minor": 5
}
